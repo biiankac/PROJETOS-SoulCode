{
  "nbformat": 4,
  "nbformat_minor": 0,
  "metadata": {
    "colab": {
      "provenance": [],
      "collapsed_sections": [
        "nZjbpDXu21oT",
        "lEw160ky3r2R",
        "46v9ahbs0YSo",
        "1ekjvwoKmo0L",
        "sYjVi5-GtGaf",
        "IdbNkvfg7mG5",
        "7xO97dDUdjdp",
        "7cHNI5LjtIQI",
        "wPN87KuJxH-w",
        "JCx3MgiR0LCU",
        "_JEBXVqw7wOe",
        "hvVj-fNfKeQ3",
        "SQkhzAblJed0",
        "ky7swOfnNY_9",
        "6lpcTy7-DGbh",
        "YQbGQCnDSWla"
      ],
      "authorship_tag": "ABX9TyNz3kVZvT9GTbY9LMHJmtPn",
      "include_colab_link": true
    },
    "kernelspec": {
      "name": "python3",
      "display_name": "Python 3"
    },
    "language_info": {
      "name": "python"
    }
  },
  "cells": [
    {
      "cell_type": "markdown",
      "metadata": {
        "id": "view-in-github",
        "colab_type": "text"
      },
      "source": [
        "<a href=\"https://colab.research.google.com/github/biiankac/Fundamentos_de_Python/blob/main/Fundamentos_de_Python_GitHub.ipynb\" target=\"_parent\"><img src=\"https://colab.research.google.com/assets/colab-badge.svg\" alt=\"Open In Colab\"/></a>"
      ]
    },
    {
      "cell_type": "markdown",
      "source": [
        "# **FUNDAMENTOS DE PYTHON**\n",
        "\n",
        "Escola: SoulCode Academy\n",
        "\n",
        "Curso: Bootcamp Analista de Dados - Martech - AD2\n",
        "\n",
        "Caderno de anotações\n",
        "\n",
        "Professor: Douglas Ribeiro e Franciane Rodrigues\n",
        "\n",
        "Aluna: Bianka Cristina"
      ],
      "metadata": {
        "id": "P-4tsXi-2cB9"
      }
    },
    {
      "cell_type": "markdown",
      "source": [
        "## **Conceitos Básicos**"
      ],
      "metadata": {
        "id": "pdHOC9nXUGLj"
      }
    },
    {
      "cell_type": "markdown",
      "source": [
        "* **Lógica de programação:** é um conceito teórico que se refere à forma de pensar e abordar problemas de programação.\n",
        "\n",
        "* **Algoritmo** é uma descrição abstrata de um processo ou solução que poderá ser executado por um computador;\n",
        "* **Script** é um conjunto de instruções ou comandos escritos em uma linguagem de programação específica. Geralmente, os scripts são usados para automatizar tarefas ou para definir o comportamento de um programa ou sistema. Eles são frequentemente executados interpretando linha por linha, em vez de serem compilados em um programa executável separado.\n",
        "* **Programa** é  um conjunto de instruções escritas em uma linguagem de programação específica, organizadas de forma lógica, para realizar uma tarefa ou resolver um problema específico. Ao contrário de um script, um programa é compilado ou interpretado antes da execução, resultando em um arquivo executável que pode ser executado diretamente em um sistema operacional."
      ],
      "metadata": {
        "id": "aOlAFsXQ2keq"
      }
    },
    {
      "cell_type": "markdown",
      "source": [
        "## **Comentário e tipos básicos de dados**"
      ],
      "metadata": {
        "id": "nZjbpDXu21oT"
      }
    },
    {
      "cell_type": "code",
      "source": [
        "print('Olá, Mundo!') # Usando aspas simples\n",
        "print(\"Olá, Mundo!\") # Usando aspas duplas"
      ],
      "metadata": {
        "colab": {
          "base_uri": "https://localhost:8080/"
        },
        "id": "4eUdnSqD22eY",
        "outputId": "2df57c19-a227-4f5b-f824-2e8dafa34b58"
      },
      "execution_count": null,
      "outputs": [
        {
          "output_type": "stream",
          "name": "stdout",
          "text": [
            "Olá, Mundo!\n",
            "Olá, Mundo!\n"
          ]
        }
      ]
    },
    {
      "cell_type": "code",
      "source": [
        "# Isto é um comentário"
      ],
      "metadata": {
        "id": "MQQFet0i2wv-"
      },
      "execution_count": null,
      "outputs": []
    },
    {
      "cell_type": "code",
      "source": [
        "'''Isto\n",
        "é\n",
        "um comnetário\n",
        "grande'''"
      ],
      "metadata": {
        "colab": {
          "base_uri": "https://localhost:8080/"
        },
        "id": "RuYwcLJu2jnf",
        "outputId": "30f45119-de8a-4af5-d59f-91512032fcce"
      },
      "execution_count": null,
      "outputs": [
        {
          "output_type": "execute_result",
          "data": {
            "text/plain": [
              "'Isto\\né\\num comnetário\\ngrande'"
            ],
            "application/vnd.google.colaboratory.intrinsic+json": {
              "type": "string"
            }
          },
          "metadata": {},
          "execution_count": 3
        }
      ]
    },
    {
      "cell_type": "code",
      "source": [
        "\"\"\"Isto é outro comentário\"\"\""
      ],
      "metadata": {
        "colab": {
          "base_uri": "https://localhost:8080/"
        },
        "id": "sK8WuTxR2_4v",
        "outputId": "bd63d054-7a4a-441a-8c54-e3bf213b8a19"
      },
      "execution_count": null,
      "outputs": [
        {
          "output_type": "execute_result",
          "data": {
            "text/plain": [
              "'Isto é outro comentário'"
            ],
            "application/vnd.google.colaboratory.intrinsic+json": {
              "type": "string"
            }
          },
          "metadata": {},
          "execution_count": 4
        }
      ]
    },
    {
      "cell_type": "code",
      "source": [
        "# Tipos de dados"
      ],
      "metadata": {
        "id": "jWmp7wXG3GnK"
      },
      "execution_count": null,
      "outputs": []
    },
    {
      "cell_type": "markdown",
      "source": [
        "![Foto 1.png](data:image/png;base64,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)"
      ],
      "metadata": {
        "id": "l5Yxw5ZWUgAm"
      }
    },
    {
      "cell_type": "code",
      "source": [
        "# Estamos escrevendo nossos dados pessoais\n",
        "print(27)                  # int - Quantitativa\n",
        "print(1.56)                # float - Quantitativa\n",
        "print('Bianka')            # str escrita com aspas simples - Qualitativa\n",
        "print(\"Siqueira\")          # str escrita com aspas duplas - Qualitativa\n",
        "print(False)               # bool - Qualitativa (dummy/binária)"
      ],
      "metadata": {
        "colab": {
          "base_uri": "https://localhost:8080/"
        },
        "id": "pBCZ3l5I3jfd",
        "outputId": "0319e9bb-cb05-4f92-f4d8-508e5f6ad47c"
      },
      "execution_count": null,
      "outputs": [
        {
          "output_type": "stream",
          "name": "stdout",
          "text": [
            "27\n",
            "1.56\n",
            "Bianka\n",
            "Siqueira\n",
            "False\n"
          ]
        }
      ]
    },
    {
      "cell_type": "markdown",
      "source": [
        "**RESUMO**\n",
        "\n",
        "*   Os **comentários** são como notas que você deixa para que você ou outra pessoa possa ler e ajuda documentar o seu código\n",
        "*   **Comando print:** é uma função de saída utilizada em várias linguagens de\n",
        "programação para exibir mensagens ou valores na tela do computador.\n",
        "*   **\\n**: usado para criar quebras de linha em um texto\n",
        "*   Tipos de dados no Python mais usados são int, float, str, bool\n",
        "*   **int e float:** dados quantitativos\n",
        "*   str: dados categóricos/qualitativos"
      ],
      "metadata": {
        "id": "dJp86Mp03ncB"
      }
    },
    {
      "cell_type": "markdown",
      "source": [
        "## **Variáveis**"
      ],
      "metadata": {
        "id": "lEw160ky3r2R"
      }
    },
    {
      "cell_type": "code",
      "source": [
        "# Estamos escrevendo nossos dados pessoais\n",
        "print(27)                  # int - Quantitativa\n",
        "print(1.56)                # float - Quantitativa\n",
        "print('Bianka')            # str escrita com aspas simples - Qualitativa\n",
        "print(\"Siqueira\")          # str escrita com aspas duplas - Qualitativa\n",
        "print(False)               # bool - Qualitativa (dummy/binária)"
      ],
      "metadata": {
        "colab": {
          "base_uri": "https://localhost:8080/"
        },
        "id": "DBbHLHbw3vD5",
        "outputId": "b7627063-d39b-43b2-a180-e6396091f97e"
      },
      "execution_count": null,
      "outputs": [
        {
          "output_type": "stream",
          "name": "stdout",
          "text": [
            "27\n",
            "1.56\n",
            "Bianka\n",
            "Siqueira\n",
            "False\n"
          ]
        }
      ]
    },
    {
      "cell_type": "code",
      "source": [
        "# Declarando as variáveis\n",
        "idade = 33\n",
        "altura = 1.56\n",
        "nome = 'Bianka'\n",
        "sobrenome = \"Siqueira\"\n",
        "filhos = False"
      ],
      "metadata": {
        "id": "Jb4dKNXT3zsH"
      },
      "execution_count": null,
      "outputs": []
    },
    {
      "cell_type": "code",
      "source": [
        "# Imprimir na tela usando comando print\n",
        "print(idade)\n",
        "print(altura)\n",
        "print(nome)\n",
        "print(sobrenome)\n",
        "print(filhos)"
      ],
      "metadata": {
        "colab": {
          "base_uri": "https://localhost:8080/"
        },
        "id": "NTm6aav63sZO",
        "outputId": "6224221f-4631-4379-f60f-7c792588328d"
      },
      "execution_count": null,
      "outputs": [
        {
          "output_type": "stream",
          "name": "stdout",
          "text": [
            "33\n",
            "1.56\n",
            "Bianka\n",
            "Siqueira\n",
            "False\n"
          ]
        }
      ]
    },
    {
      "cell_type": "code",
      "source": [
        "# Imprimir na tel usando apenas o nome da variável\n",
        "idade\n",
        "altura"
      ],
      "metadata": {
        "colab": {
          "base_uri": "https://localhost:8080/"
        },
        "id": "P0PIg_a837YK",
        "outputId": "eab1e7a1-ea4e-4a18-de17-2c381614cad2"
      },
      "execution_count": null,
      "outputs": [
        {
          "output_type": "execute_result",
          "data": {
            "text/plain": [
              "1.56"
            ]
          },
          "metadata": {},
          "execution_count": 10
        }
      ]
    },
    {
      "cell_type": "code",
      "source": [
        "# Impressão geral na tela de todas as variáveis declaradas\n",
        "print(idade, altura, nome, sobrenome, filhos)"
      ],
      "metadata": {
        "colab": {
          "base_uri": "https://localhost:8080/"
        },
        "id": "ps8Ec_zt39H-",
        "outputId": "88aa6393-ccc7-46ff-bd32-f4a674666d6b"
      },
      "execution_count": null,
      "outputs": [
        {
          "output_type": "stream",
          "name": "stdout",
          "text": [
            "33 1.56 Bianka Siqueira False\n"
          ]
        }
      ]
    },
    {
      "cell_type": "code",
      "source": [
        "# Comando type serve para checarmos o tipo de dado que a variável está declarada\n",
        "type(idade)"
      ],
      "metadata": {
        "colab": {
          "base_uri": "https://localhost:8080/"
        },
        "id": "AWwQDPaI3_AW",
        "outputId": "623529bf-50ae-46df-fda7-935a397c279c"
      },
      "execution_count": null,
      "outputs": [
        {
          "output_type": "execute_result",
          "data": {
            "text/plain": [
              "int"
            ]
          },
          "metadata": {},
          "execution_count": 12
        }
      ]
    },
    {
      "cell_type": "code",
      "source": [
        "# Checando o tipo de variável usando os comandos print e type juntos\n",
        "print(type(idade))\n",
        "print(type(altura))\n",
        "print(type(nome))\n",
        "print(type(sobrenome))\n",
        "print(type(filhos))"
      ],
      "metadata": {
        "colab": {
          "base_uri": "https://localhost:8080/"
        },
        "id": "qx0uEnKJ4A2o",
        "outputId": "8f00a347-0297-4779-89fa-406108fbead4"
      },
      "execution_count": null,
      "outputs": [
        {
          "output_type": "stream",
          "name": "stdout",
          "text": [
            "<class 'int'>\n",
            "<class 'float'>\n",
            "<class 'str'>\n",
            "<class 'str'>\n",
            "<class 'bool'>\n"
          ]
        }
      ]
    },
    {
      "cell_type": "code",
      "source": [
        "# Atenção: o python é sensível as letras maiúsculas de munúsculas\n",
        "# nome = 'Bianka'\n",
        "# print(Nome)"
      ],
      "metadata": {
        "id": "l7DJkHTR4GVv"
      },
      "execution_count": null,
      "outputs": []
    },
    {
      "cell_type": "code",
      "source": [
        "# Armazenando string e número\n",
        "nome_completo = 'Bianka Cristina da Silva Siqueira'\n",
        "numero_favorito = \"27\""
      ],
      "metadata": {
        "id": "ekbUjOfq4H5z"
      },
      "execution_count": null,
      "outputs": []
    },
    {
      "cell_type": "code",
      "source": [
        "# Checando a variável número favorito\n",
        "print(type(numero_favorito))"
      ],
      "metadata": {
        "colab": {
          "base_uri": "https://localhost:8080/"
        },
        "id": "_jzEisq54KNJ",
        "outputId": "53bfc772-2897-4f0d-e804-6d01925f113f"
      },
      "execution_count": null,
      "outputs": [
        {
          "output_type": "stream",
          "name": "stdout",
          "text": [
            "<class 'str'>\n"
          ]
        }
      ]
    },
    {
      "cell_type": "code",
      "source": [
        "# Se o numero estiver entre aspas ele se transforma numa string\n",
        "print(nome_completo, numero_favorito)"
      ],
      "metadata": {
        "colab": {
          "base_uri": "https://localhost:8080/"
        },
        "id": "DHe2lr5S4L2a",
        "outputId": "91b67f17-6678-4d1b-bb74-ae6a5754fc45"
      },
      "execution_count": null,
      "outputs": [
        {
          "output_type": "stream",
          "name": "stdout",
          "text": [
            "Bianka Cristina da Silva Siqueira 27\n"
          ]
        }
      ]
    },
    {
      "cell_type": "code",
      "source": [
        "# Primeiro nome do nosso código\n",
        "nome"
      ],
      "metadata": {
        "colab": {
          "base_uri": "https://localhost:8080/"
        },
        "id": "PRomTj1R4OKN",
        "outputId": "b89f28e9-7473-4e9a-bc7c-04b2dfa89227"
      },
      "execution_count": null,
      "outputs": [
        {
          "output_type": "execute_result",
          "data": {
            "text/plain": [
              "'Bianka'"
            ],
            "application/vnd.google.colaboratory.intrinsic+json": {
              "type": "string"
            }
          },
          "metadata": {},
          "execution_count": 18
        }
      ]
    },
    {
      "cell_type": "code",
      "source": [
        "# Renomeação da variável\n",
        "nome = 'Felipe'"
      ],
      "metadata": {
        "id": "Tzyiqb5s4PxB"
      },
      "execution_count": null,
      "outputs": []
    },
    {
      "cell_type": "code",
      "source": [
        "# Atualização da variável \"nome\"\n",
        "# Sempre a última alteração será a válida\n",
        "nome"
      ],
      "metadata": {
        "colab": {
          "base_uri": "https://localhost:8080/"
        },
        "id": "tli8K7aj4Rlz",
        "outputId": "1b9a0aba-2c3b-4774-ea94-1db9a63d765e"
      },
      "execution_count": null,
      "outputs": [
        {
          "output_type": "execute_result",
          "data": {
            "text/plain": [
              "'Felipe'"
            ],
            "application/vnd.google.colaboratory.intrinsic+json": {
              "type": "string"
            }
          },
          "metadata": {},
          "execution_count": 20
        }
      ]
    },
    {
      "cell_type": "markdown",
      "source": [
        "**Resumo**\n",
        "*  *Variáveis* permitem salvar valores na memória usando um nome que atribuímos\n",
        "* Declaramos um nome no lado esquerdo do operador igual (“=”), e no lado direito, atribuir o valor que queremos salvar para usar mais tarde.\n",
        "* Como ler: Declaramos a variável \"a\" ao valor do \"2\" do tipo int\n",
        "* Ex.: a = 2\n",
        "* Como ler: Declaramos a variável \"b\" ao valor do \"10.953\" do tipo float\n",
        "* Ex.: b = 10.953\n",
        "* Como ler: A variável \"a\" recebe valor 2 do tipo int\n",
        "* Ex.: a = 2\n",
        "* Como ler: A variável \"b\" recebe valor 10.953 do tipo float\n",
        "* Ex.: b = 10.953\n",
        "* É possível usar os dois comandos print e type juntos\n",
        "* Atenção: Número pode ser string\n",
        "\n",
        "**Regras para nomes de variáveis**\n",
        "* Deve começar com uma letra (maíuscula ou minúscula) ou subcrito(_).\n",
        "* Nunca pode começar com um número.\n",
        "* Pode conter letras maiúsculas, minúsculas, números e subscrito.\n",
        "* Não pode-se utilizar como parte do nome de uma variável:\n",
        "{ ( + - * / \\ ; . , ?\n",
        "* Letras maiúsculas e minúsculas são diferentes:\n",
        "casa = 4\n",
        "Casa = 4"
      ],
      "metadata": {
        "id": "qZ7yDNHx4U3i"
      }
    },
    {
      "cell_type": "markdown",
      "source": [
        "### **Conversão de variáveis**"
      ],
      "metadata": {
        "id": "-CLHw5qJ4bbR"
      }
    },
    {
      "cell_type": "code",
      "source": [
        "# Conversaõ de int para float\n",
        "num_int = 10\n",
        "num_float = float(num_int)\n",
        "\n",
        "# Cehgando a conversão\n",
        "print(type(num_int), type(num_float))\n",
        "print(num_float)"
      ],
      "metadata": {
        "colab": {
          "base_uri": "https://localhost:8080/"
        },
        "id": "ed2exK5z4b84",
        "outputId": "84ff3d23-731a-4495-f354-88161ea3fc9a"
      },
      "execution_count": null,
      "outputs": [
        {
          "output_type": "stream",
          "name": "stdout",
          "text": [
            "<class 'int'> <class 'float'>\n",
            "10.0\n"
          ]
        }
      ]
    },
    {
      "cell_type": "code",
      "source": [
        "# Conversão de int para string\n",
        "num_int = 10\n",
        "num_str = str(num_int)\n",
        "\n",
        "# Checando a conversão de int para str\n",
        "print(type(num_int), type(num_str))\n",
        "print(num_str)"
      ],
      "metadata": {
        "colab": {
          "base_uri": "https://localhost:8080/"
        },
        "id": "ufaFwTTC4hXx",
        "outputId": "f5941d91-dc75-4a42-deb5-cea983585a63"
      },
      "execution_count": null,
      "outputs": [
        {
          "output_type": "stream",
          "name": "stdout",
          "text": [
            "<class 'int'> <class 'str'>\n",
            "10\n"
          ]
        }
      ]
    },
    {
      "cell_type": "code",
      "source": [
        "# Conversão de float para int\n",
        "num_float = 10.5\n",
        "num_int = int(num_float)\n",
        "\n",
        "# Checando a conversão de float para int\n",
        "print(type(num_float), type(num_int))\n",
        "print(num_int)"
      ],
      "metadata": {
        "colab": {
          "base_uri": "https://localhost:8080/"
        },
        "id": "O1313AyX4kuu",
        "outputId": "83559a3d-4666-458f-9a14-00fb78a5e62a"
      },
      "execution_count": null,
      "outputs": [
        {
          "output_type": "stream",
          "name": "stdout",
          "text": [
            "<class 'float'> <class 'int'>\n",
            "10\n"
          ]
        }
      ]
    },
    {
      "cell_type": "code",
      "source": [
        "# Conersão de float para str\n",
        "num_float = 10.5\n",
        "num_str = str(num_float)\n",
        "\n",
        "# Checando a conversão de float para str\n",
        "print(type(num_float), type(num_str))\n",
        "print(num_str)"
      ],
      "metadata": {
        "colab": {
          "base_uri": "https://localhost:8080/"
        },
        "id": "65mwJTj44oEf",
        "outputId": "ae5d28b9-826e-4c76-ed64-b31f847fd4bd"
      },
      "execution_count": null,
      "outputs": [
        {
          "output_type": "stream",
          "name": "stdout",
          "text": [
            "<class 'float'> <class 'str'>\n",
            "10.5\n"
          ]
        }
      ]
    },
    {
      "cell_type": "code",
      "source": [
        "#Conversão de str para int\n",
        "num_str = '10'\n",
        "num_int = int(num_str)\n",
        "\n",
        "# Checando a conversão\n",
        "print(type(num_str), type(num_int))\n",
        "print(num_int)"
      ],
      "metadata": {
        "colab": {
          "base_uri": "https://localhost:8080/"
        },
        "id": "Rw-smtW24rvQ",
        "outputId": "d59a01ff-299f-4971-90c1-c35712e1869d"
      },
      "execution_count": null,
      "outputs": [
        {
          "output_type": "stream",
          "name": "stdout",
          "text": [
            "<class 'str'> <class 'int'>\n",
            "10\n"
          ]
        }
      ]
    },
    {
      "cell_type": "code",
      "source": [
        "# conversão de str para float\n",
        "num_str = \"10.5\"\n",
        "num_float = float(num_str)\n",
        "\n",
        "# Checando a conversão de str para float\n",
        "print(type(num_str), type(num_float))\n",
        "print(num_float)"
      ],
      "metadata": {
        "colab": {
          "base_uri": "https://localhost:8080/"
        },
        "id": "A1gwuvy34teZ",
        "outputId": "d36ed3e1-c7c3-4aa8-f5b0-320a798a7a09"
      },
      "execution_count": null,
      "outputs": [
        {
          "output_type": "stream",
          "name": "stdout",
          "text": [
            "<class 'str'> <class 'float'>\n",
            "10.5\n"
          ]
        }
      ]
    },
    {
      "cell_type": "code",
      "source": [
        "# FALHA NO SISTEMA:\n",
        "#Conversão de str para int ()\n",
        "# num_str = '10.5'\n",
        "# num_int = int(num_str)\n",
        "\n",
        "# Conversão de str para int ()\n",
        "num_str = '10.5'\n",
        "num_float = float(num_str) # conversão intermediária\n",
        "num_int = int(num_float)\n",
        "\n",
        "# Checando a conversão de str para int ()\n",
        "print(type(num_str), type(num_int))\n",
        "print(num_int)"
      ],
      "metadata": {
        "colab": {
          "base_uri": "https://localhost:8080/"
        },
        "id": "jPBCRpdj4xC3",
        "outputId": "cb76d38e-aabf-4c60-b803-3a3faea1741e"
      },
      "execution_count": null,
      "outputs": [
        {
          "output_type": "stream",
          "name": "stdout",
          "text": [
            "<class 'str'> <class 'int'>\n",
            "10\n"
          ]
        }
      ]
    },
    {
      "cell_type": "markdown",
      "source": [
        "## **Operadores**"
      ],
      "metadata": {
        "id": "46v9ahbs0YSo"
      }
    },
    {
      "cell_type": "markdown",
      "source": [
        "### **Operadores Matemáticos**"
      ],
      "metadata": {
        "id": "1ekjvwoKmo0L"
      }
    },
    {
      "cell_type": "markdown",
      "source": [
        "Os operadores matemáticos básicos, tais como: adição, subtração, multiplicação, divisão, exponeciação, e radiciação podem ser feitos dentro do Python."
      ],
      "metadata": {
        "id": "u1qFPJl447ze"
      }
    },
    {
      "cell_type": "code",
      "source": [
        "# Adição\n",
        "n1 = 5\n",
        "n2 = 7\n",
        "soma = n1 + n2\n",
        "\n",
        "# Modos de apresentação\n",
        "print(soma)\n",
        "print('A soma é: ', soma)\n",
        "print('A soma é: ', round(soma,2))\n",
        "print(f\"A soma dos números é {soma:.2f}\")\n",
        "print(n1+n2)\n",
        "n1+n2\n",
        "\n",
        "# Verificação de tipos\n",
        "print(type(soma))"
      ],
      "metadata": {
        "colab": {
          "base_uri": "https://localhost:8080/"
        },
        "id": "FWwJvXG549EO",
        "outputId": "ee44a27e-03b4-4a79-bca7-c967b42bcd5a"
      },
      "execution_count": null,
      "outputs": [
        {
          "output_type": "stream",
          "name": "stdout",
          "text": [
            "12\n",
            "A soma é:  12\n",
            "A soma é:  12\n",
            "A soma dos números é 12.00\n",
            "12\n",
            "<class 'int'>\n"
          ]
        }
      ]
    },
    {
      "cell_type": "code",
      "source": [
        "# Subtração\n",
        "a1 = 154.587\n",
        "a2 = 10.548\n",
        "sub = a1 - a2\n",
        "\n",
        "# Modos de apresentação\n",
        "print(sub)\n",
        "print('A subtração é: ', sub)\n",
        "print('A subtração é: ', round(sub,2))\n",
        "print(f\"A subtração dos números é {sub:.2f}\")\n",
        "print(a1-a2)\n",
        "a1-a2\n",
        "\n",
        "# Verificação de tipos\n",
        "print(type(sub))"
      ],
      "metadata": {
        "colab": {
          "base_uri": "https://localhost:8080/"
        },
        "id": "W63gBdC04_kn",
        "outputId": "1079c589-7a6d-4d95-b1e2-755c459e7a3a"
      },
      "execution_count": null,
      "outputs": [
        {
          "output_type": "stream",
          "name": "stdout",
          "text": [
            "144.039\n",
            "A subtração é:  144.039\n",
            "A subtração é:  144.04\n",
            "A subtração dos números é 144.04\n",
            "144.039\n",
            "<class 'float'>\n"
          ]
        }
      ]
    },
    {
      "cell_type": "code",
      "source": [
        "# Multiplicação\n",
        "b1 = 3.5\n",
        "multi = b1 * 3\n",
        "\n",
        "\n",
        "# Modos de apresentação\n",
        "print(multi)\n",
        "print('A multiplicação é: ', multi)\n",
        "print('A multiplicação é: ', round(multi,2))\n",
        "print(f\"A multiplicação dos números é {multi:.2f}\")\n",
        "print(b1*3)\n",
        "b1*3\n",
        "\n",
        "# Verificação de tipos\n",
        "print(type(multi))"
      ],
      "metadata": {
        "colab": {
          "base_uri": "https://localhost:8080/"
        },
        "id": "EStL_HMG5DEo",
        "outputId": "5d557e33-1b7b-4d87-a9c7-8acf674192e5"
      },
      "execution_count": null,
      "outputs": [
        {
          "output_type": "stream",
          "name": "stdout",
          "text": [
            "10.5\n",
            "A multiplicação é:  10.5\n",
            "A multiplicação é:  10.5\n",
            "A multiplicação dos números é 10.50\n",
            "10.5\n",
            "<class 'float'>\n"
          ]
        }
      ]
    },
    {
      "cell_type": "code",
      "source": [
        "# Divisão\n",
        "x1 = 10\n",
        "x2 = 5\n",
        "div = x1/x2\n",
        "\n",
        "\n",
        "# Modos de apresentação\n",
        "print(div)\n",
        "print('A divisão é: ', div)\n",
        "print('A divisão é: ', round(div,2))\n",
        "print(f\"A divisão dos números é {div:.2f}\")\n",
        "print(x1/x2)\n",
        "x1/x2\n",
        "\n",
        "# Verificação de tipos\n",
        "print(type(div))"
      ],
      "metadata": {
        "colab": {
          "base_uri": "https://localhost:8080/"
        },
        "id": "vBTFGWqM5FHO",
        "outputId": "e3c2cd7c-c5e2-4c46-d0c2-5e88d938dc70"
      },
      "execution_count": null,
      "outputs": [
        {
          "output_type": "stream",
          "name": "stdout",
          "text": [
            "2.0\n",
            "A divisão é:  2.0\n",
            "A divisão é:  2.0\n",
            "A divisão dos números é 2.00\n",
            "2.0\n",
            "<class 'float'>\n"
          ]
        }
      ]
    },
    {
      "cell_type": "markdown",
      "source": [
        "**Melhorando a visualização dos prints f-string**\n",
        "\n",
        "Quando houver necessidade de combinar no mesmo print texto e valores de variáveis o f-string é uma excelente alternativa.\n"
      ],
      "metadata": {
        "id": "Pls9rV_jV3eE"
      }
    },
    {
      "cell_type": "code",
      "source": [
        "# soma (+) Exemplo: some 3 com 2\n",
        "soma = 3 + 2\n",
        "print(soma)\n",
        "print(f'O resultado da soma de 3 com 2 é: {soma}')"
      ],
      "metadata": {
        "colab": {
          "base_uri": "https://localhost:8080/"
        },
        "id": "ljWheqHT_mgc",
        "outputId": "d8dacf91-874d-4ebd-9850-b326f2bf34aa"
      },
      "execution_count": null,
      "outputs": [
        {
          "output_type": "stream",
          "name": "stdout",
          "text": [
            "5\n"
          ]
        }
      ]
    },
    {
      "cell_type": "code",
      "source": [
        "# subtração (-) Exemplo: subtraia 2 de 3\n",
        "sub = 3 - 2\n",
        "print(sub)\n",
        "print(f'O resultado da subtração de 3 com 2 é: {sub}')"
      ],
      "metadata": {
        "colab": {
          "base_uri": "https://localhost:8080/"
        },
        "id": "IdtgyLSg_ouj",
        "outputId": "aacb5efc-461d-4daf-f735-2b35c9ba0a4c"
      },
      "execution_count": null,
      "outputs": [
        {
          "output_type": "stream",
          "name": "stdout",
          "text": [
            "1\n"
          ]
        }
      ]
    },
    {
      "cell_type": "code",
      "source": [
        "# multiplicação (*) Exemplo: multiplique 3 por 2\n",
        "mult = 3 * 2\n",
        "print(mult)\n",
        "print(f'O resultado da multiplicação de 3 com 2 é: {mult}')"
      ],
      "metadata": {
        "colab": {
          "base_uri": "https://localhost:8080/"
        },
        "id": "oSH_Gk74_qiB",
        "outputId": "f702744e-2a41-40f3-9e6d-4e96daaf8006"
      },
      "execution_count": null,
      "outputs": [
        {
          "output_type": "stream",
          "name": "stdout",
          "text": [
            "6\n"
          ]
        }
      ]
    },
    {
      "cell_type": "code",
      "source": [
        "# divisão (/) Exemplo: divida 3 por 2\n",
        "div = 3 / 2\n",
        "print(div)\n",
        "print(f'O resultado da divisão de 3 com 2 é: {div}')"
      ],
      "metadata": {
        "colab": {
          "base_uri": "https://localhost:8080/"
        },
        "id": "knW-IqEx_sXe",
        "outputId": "73a02cd7-0c31-4364-90f1-1a1305687594"
      },
      "execution_count": null,
      "outputs": [
        {
          "output_type": "stream",
          "name": "stdout",
          "text": [
            "1.5\n"
          ]
        }
      ]
    },
    {
      "cell_type": "code",
      "source": [
        "# parte inteira da divisão (//) Exemplo: encontre e guarde a parte interia da divisão de 3 por 2\n",
        "idiv = 3 // 2\n",
        "print(idiv)\n",
        "print(f'A parte inteira da divisão de 3 com 2 é: {idiv}')"
      ],
      "metadata": {
        "colab": {
          "base_uri": "https://localhost:8080/"
        },
        "id": "UiqW-3v2_uIo",
        "outputId": "d403b251-bcde-49a6-eca8-b05d68db4bd4"
      },
      "execution_count": null,
      "outputs": [
        {
          "output_type": "stream",
          "name": "stdout",
          "text": [
            "1\n"
          ]
        }
      ]
    },
    {
      "cell_type": "code",
      "source": [
        "# resto da divisão (%) Exemplo: encontre e guarde o resto da divisão de 3 por 2\n",
        "rdiv = 3 % 2\n",
        "print(rdiv)\n",
        "print(f'O resto da divisão de 3 com 2 é: {rdiv}')"
      ],
      "metadata": {
        "colab": {
          "base_uri": "https://localhost:8080/"
        },
        "id": "phc0x1Iu_vyx",
        "outputId": "9a6cdd55-e519-4b3e-9263-5a12c8325e76"
      },
      "execution_count": null,
      "outputs": [
        {
          "output_type": "stream",
          "name": "stdout",
          "text": [
            "1\n"
          ]
        }
      ]
    },
    {
      "cell_type": "markdown",
      "source": [
        "![Foto 2.png](data:image/png;base64,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)"
      ],
      "metadata": {
        "id": "kIL2ZdTrXPi6"
      }
    },
    {
      "cell_type": "code",
      "source": [
        "# potenciação (**) Exemplo: eleve 3 a 2\n",
        "pot = 3 ** 2\n",
        "print(pot)\n",
        "print(f'O resultado da potenciação de 3 elevado a 2 é: {pot}')"
      ],
      "metadata": {
        "colab": {
          "base_uri": "https://localhost:8080/"
        },
        "id": "tc0VTP_E_zZT",
        "outputId": "85a5df3d-4f62-4639-dba6-ebae9154bb63"
      },
      "execution_count": null,
      "outputs": [
        {
          "output_type": "stream",
          "name": "stdout",
          "text": [
            "9\n"
          ]
        }
      ]
    },
    {
      "cell_type": "markdown",
      "source": [
        "![Foto 3.png](data:image/png;base64,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)"
      ],
      "metadata": {
        "id": "6o3iJaTQXUWE"
      }
    },
    {
      "cell_type": "code",
      "source": [
        "# Radiciação (**) Exemplo: raiz quadrada de 144 é o mesmo que 144 elevado a 1/2\n",
        "# Não esquecer os parênteses\n",
        "# raiz = 144 ** (1/2)\n",
        "\n",
        "raiz = 144 ** 0,5\n",
        "print(raiz)\n",
        "print(f'O resultado da raiz quadrada de 144 é: {raiz} ')"
      ],
      "metadata": {
        "id": "E39hp9NQYH3K"
      },
      "execution_count": null,
      "outputs": []
    },
    {
      "cell_type": "markdown",
      "source": [
        "### **Operadores de Comparação (Booleanos)**"
      ],
      "metadata": {
        "id": "sYjVi5-GtGaf"
      }
    },
    {
      "cell_type": "markdown",
      "source": [
        "![Foto 4.png](data:image/png;base64,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)"
      ],
      "metadata": {
        "id": "v4GxF3_6c2yA"
      }
    },
    {
      "cell_type": "markdown",
      "source": [
        "* Igualdade (==) verifica se dois valores são iguais (retorna True ou False)"
      ],
      "metadata": {
        "id": "ubea2D7yc8JK"
      }
    },
    {
      "cell_type": "code",
      "source": [
        "# Exemplo compare se 2 é igual a 3\n",
        "\n",
        "a = 3 # Atribuição do valor 3 (tipo int) para a variável a\n",
        "b = 3.0 # Atribuição do valor 3.0 (tipo float) para a variável b\n",
        "\n",
        "teste1 = a == b # Fazendo o teste de igualdade de a com b e guardando na variável teste1\n",
        "print(teste1) # Imprimindo o valor da variável teste1\n",
        "\n",
        "teste2 = 'bianka' == 'Bianka' # Comparando duas strings com apenas uma  pequena diferença entre elas\n",
        "print(teste2) # Imprimindo o valor da variável teste2"
      ],
      "metadata": {
        "colab": {
          "base_uri": "https://localhost:8080/"
        },
        "id": "BYu4-LB5AOcs",
        "outputId": "dcb35329-1eef-4d81-e691-3443056e06cc"
      },
      "execution_count": null,
      "outputs": [
        {
          "output_type": "stream",
          "name": "stdout",
          "text": [
            "True\n",
            "False\n"
          ]
        }
      ]
    },
    {
      "cell_type": "markdown",
      "source": [
        "* Diferença (!=) Verifica se dois valores são diferentes (retorna True ou False)"
      ],
      "metadata": {
        "id": "kH9ID4eWdG63"
      }
    },
    {
      "cell_type": "code",
      "source": [
        "# Exemplo: compare se 3 (variável a) é diferente de 3.0 (variável b)\n",
        "\n",
        "teste3 = a != b\n",
        "print(teste3)"
      ],
      "metadata": {
        "colab": {
          "base_uri": "https://localhost:8080/"
        },
        "id": "K0jtLB5fAQKa",
        "outputId": "022c0f60-b1d8-499b-bd4e-af46f91d65b3"
      },
      "execution_count": null,
      "outputs": [
        {
          "output_type": "stream",
          "name": "stdout",
          "text": [
            "False\n"
          ]
        }
      ]
    },
    {
      "cell_type": "markdown",
      "source": [
        "* Maior que (>) Verifica se o valor é maior que outro (retorna True ou False)"
      ],
      "metadata": {
        "id": "sMQvbooIdQEV"
      }
    },
    {
      "cell_type": "code",
      "source": [
        "# Exemplo: Compare se 3 é maior que 2\n",
        "\n",
        "teste4 = 3 > 2\n",
        "print(teste4)"
      ],
      "metadata": {
        "colab": {
          "base_uri": "https://localhost:8080/"
        },
        "id": "CPfgF7wHAR8z",
        "outputId": "d410d1b0-ddd0-4ffe-afb2-28c0bcee2ea7"
      },
      "execution_count": null,
      "outputs": [
        {
          "output_type": "stream",
          "name": "stdout",
          "text": [
            "True\n"
          ]
        }
      ]
    },
    {
      "cell_type": "markdown",
      "source": [
        "* Maior ou igual (>=) Verifica se um valor é maior ou igual ao outro (retorna True ou False)"
      ],
      "metadata": {
        "id": "kbEfi3yxdSvp"
      }
    },
    {
      "cell_type": "code",
      "source": [
        "# Exemplo: Compare se 3 é maior ou igual a 3\n",
        "\n",
        "teste5 = 3 >= 3\n",
        "print(teste5)"
      ],
      "metadata": {
        "colab": {
          "base_uri": "https://localhost:8080/"
        },
        "id": "Ju3NW4rMAWJ3",
        "outputId": "feb32a6b-b34d-4acc-f34a-d8ef907e1fc2"
      },
      "execution_count": null,
      "outputs": [
        {
          "output_type": "stream",
          "name": "stdout",
          "text": [
            "True\n"
          ]
        }
      ]
    },
    {
      "cell_type": "markdown",
      "source": [
        "* Menor que (<) Verifica se um número é menor que outro (retorna True ou False)"
      ],
      "metadata": {
        "id": "w1AyN_QLdY7Q"
      }
    },
    {
      "cell_type": "code",
      "source": [
        "# Exemplo:  compare se 2 é menor que 2\n",
        "\n",
        "teste6 = 2 < 2\n",
        "print(teste6)"
      ],
      "metadata": {
        "colab": {
          "base_uri": "https://localhost:8080/"
        },
        "id": "g1Io-nvLAX2A",
        "outputId": "51e7be3c-3431-4398-beb3-2670baa29b20"
      },
      "execution_count": null,
      "outputs": [
        {
          "output_type": "stream",
          "name": "stdout",
          "text": [
            "False\n"
          ]
        }
      ]
    },
    {
      "cell_type": "markdown",
      "source": [
        "* Menor ou igual (<=) Verifica se um valor é menor ou igual ao outro (retorna True ou False)"
      ],
      "metadata": {
        "id": "8WP0T4Jgdbsx"
      }
    },
    {
      "cell_type": "code",
      "source": [
        "# Exemplo:  compare se 2 é menor ou igual a 2\n",
        "\n",
        "teste7 = 2 <= 2\n",
        "print(teste7)"
      ],
      "metadata": {
        "colab": {
          "base_uri": "https://localhost:8080/"
        },
        "id": "CaOsl4pWAZlg",
        "outputId": "93b3782d-0c7c-45bf-ca5f-5268bf2dbb20"
      },
      "execution_count": null,
      "outputs": [
        {
          "output_type": "stream",
          "name": "stdout",
          "text": [
            "True\n"
          ]
        }
      ]
    },
    {
      "cell_type": "markdown",
      "source": [
        "### **Operadores de Atribuição**"
      ],
      "metadata": {
        "id": "IdbNkvfg7mG5"
      }
    },
    {
      "cell_type": "markdown",
      "source": [
        "![Foto 5.png](data:image/png;base64,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)"
      ],
      "metadata": {
        "id": "YRE9NK3cdkmF"
      }
    },
    {
      "cell_type": "markdown",
      "source": [
        "* Atribuição direta (=) Atribui ao lado esquedo do sinal de igualdade um valor que está ao lado direito do sinal de igualdade"
      ],
      "metadata": {
        "id": "R9JRsbZ8d0R-"
      }
    },
    {
      "cell_type": "code",
      "source": [
        "nome = 'Bianka'\n",
        "peso_kg = 55\n",
        "altura_m = 1.56"
      ],
      "metadata": {
        "id": "BgnusADlmwds"
      },
      "execution_count": null,
      "outputs": []
    },
    {
      "cell_type": "markdown",
      "source": [
        "* Atribuição de incremento (+=), equivale a x = x + y (equivale a uma variável x que já existe recebendo ela mesma + outro valor y)"
      ],
      "metadata": {
        "id": "ZxbpjViCd50k"
      }
    },
    {
      "cell_type": "code",
      "source": [
        "# Exemplo: crie uma variável t que receba o número inteiro 3, e depois acrescente o valor 1 para essa variável\n",
        "\n",
        "t = 3\n",
        "t += 1\n",
        "print(f'O resultado de t + 1 é: {t}')"
      ],
      "metadata": {
        "colab": {
          "base_uri": "https://localhost:8080/"
        },
        "id": "cHtt0zVyAgbl",
        "outputId": "a30e98d1-a504-4944-e624-52758ee025c9"
      },
      "execution_count": null,
      "outputs": [
        {
          "output_type": "stream",
          "name": "stdout",
          "text": [
            "O resultado de t + 1 é: 4\n"
          ]
        }
      ]
    },
    {
      "cell_type": "markdown",
      "source": [
        "* Atribuição de decremento (-=), equivale a x = x - y (equivale a uma variável x que já existe recebendo ela mesma - outro valor y)"
      ],
      "metadata": {
        "id": "iigKfiD1d_aa"
      }
    },
    {
      "cell_type": "code",
      "source": [
        "# Exemplo: crie uma variável z que receba o número inteiro 5, e depois diminua o valor 2 para essa variável\n",
        "\n",
        "z = 5\n",
        "z -= 2\n",
        "print(f'O resultado de z - 2: {z}')"
      ],
      "metadata": {
        "colab": {
          "base_uri": "https://localhost:8080/"
        },
        "id": "47UrC3cfAimu",
        "outputId": "8a285998-e7b4-4231-8b62-ded5a48bd5eb"
      },
      "execution_count": null,
      "outputs": [
        {
          "output_type": "stream",
          "name": "stdout",
          "text": [
            "O resultado de z - 2: 3\n"
          ]
        }
      ]
    },
    {
      "cell_type": "markdown",
      "source": [
        "* Atribuição de multiplicação (*=) equivale a x = x * y"
      ],
      "metadata": {
        "id": "iiJjcdu0eF0-"
      }
    },
    {
      "cell_type": "code",
      "source": [
        "# Exemplo: crie uma variável j que receba o número 5, e depois multiplique por 2\n",
        "\n",
        "j = 5\n",
        "j *= 2\n",
        "print(f'O resultado de j * 2 é: {j}')\n"
      ],
      "metadata": {
        "colab": {
          "base_uri": "https://localhost:8080/"
        },
        "id": "Zm82LN15Aj77",
        "outputId": "84f67855-0efa-44d8-b0fd-ea6af4564c82"
      },
      "execution_count": null,
      "outputs": [
        {
          "output_type": "stream",
          "name": "stdout",
          "text": [
            "O resultado de j * 2 é: 10\n"
          ]
        }
      ]
    },
    {
      "cell_type": "markdown",
      "source": [
        "* Atribuição de divisão (/=) equivale a x = x / y"
      ],
      "metadata": {
        "id": "AX65bs2JeKWs"
      }
    },
    {
      "cell_type": "code",
      "source": [
        "# Exemplo: crie uma variável w que receba o número 7, e depois divida por 2\n",
        "\n",
        "w = 7\n",
        "j /= 2\n",
        "print(f'O resultado de w / 2 é: {w}')"
      ],
      "metadata": {
        "colab": {
          "base_uri": "https://localhost:8080/"
        },
        "id": "FlT8zI8uAlxZ",
        "outputId": "bd33772a-7973-4303-8830-8b69e5b40b34"
      },
      "execution_count": null,
      "outputs": [
        {
          "output_type": "stream",
          "name": "stdout",
          "text": [
            "O resultado de w / 2 é: 7\n"
          ]
        }
      ]
    },
    {
      "cell_type": "markdown",
      "source": [
        "* Atribuição da parte inteira da divisão (//=) equivale a x = x // y"
      ],
      "metadata": {
        "id": "jk8KQHyYeMo_"
      }
    },
    {
      "cell_type": "code",
      "source": [
        "# Exemplo: crie uma variável k que receba o número 7, e depois receba a parte inteira da divisão 2\n",
        "\n",
        "k = 7\n",
        "k //= 2\n",
        "print(f'O resultado de k // 2 é: {k}')"
      ],
      "metadata": {
        "colab": {
          "base_uri": "https://localhost:8080/"
        },
        "id": "MO1pFYuJAncg",
        "outputId": "8ec61b47-fe2f-46ac-8dc0-79f9a05aa053"
      },
      "execution_count": null,
      "outputs": [
        {
          "output_type": "stream",
          "name": "stdout",
          "text": [
            "O resultado de k // 2 é: 3\n"
          ]
        }
      ]
    },
    {
      "cell_type": "markdown",
      "source": [
        "* Atribuição do resto da divisão (%=) equivale a x = x % y"
      ],
      "metadata": {
        "id": "4gyRxNvWeRGt"
      }
    },
    {
      "cell_type": "code",
      "source": [
        "# Exemplo: crie uma variável b que receba o número 7, e depois receba o resto da divisão dela por 2\n",
        "\n",
        "b = 7\n",
        "b %= 2\n",
        "print(f'O resto da divisão de b por 2 é: {b}')"
      ],
      "metadata": {
        "colab": {
          "base_uri": "https://localhost:8080/"
        },
        "id": "FSRO2jRPApNE",
        "outputId": "0e74838d-aa7e-4621-e7d7-3f064652d4b0"
      },
      "execution_count": null,
      "outputs": [
        {
          "output_type": "stream",
          "name": "stdout",
          "text": [
            "O resto da divisão de b por 2 é: 1\n"
          ]
        }
      ]
    },
    {
      "cell_type": "markdown",
      "source": [
        "* Atribuição de potenciação (**=) equivale a x = x ** y"
      ],
      "metadata": {
        "id": "b4nJHMJneVcM"
      }
    },
    {
      "cell_type": "code",
      "source": [
        "# Exemplo: crie uma variável casamento que receba o valor 6 e depois receba o quadrado dela\n",
        "\n",
        "casamento = 6\n",
        "casamento **= 2\n",
        "print(f'O professor Douglas casará: {casamento} vezes nesta vida')"
      ],
      "metadata": {
        "colab": {
          "base_uri": "https://localhost:8080/"
        },
        "id": "N_Vb3UspAsHi",
        "outputId": "6f2cf54c-11b0-4865-ef2b-92d697fc5527"
      },
      "execution_count": null,
      "outputs": [
        {
          "output_type": "stream",
          "name": "stdout",
          "text": [
            "O professor Douglas casará: 36 vezes nesta vida\n"
          ]
        }
      ]
    },
    {
      "cell_type": "markdown",
      "source": [
        "### **Operadores Lógicos**"
      ],
      "metadata": {
        "id": "7xO97dDUdjdp"
      }
    },
    {
      "cell_type": "markdown",
      "source": [
        "* (and) Retorna verdadeiro somente se todas as condições de uma comparação forem satisfeitas;\n",
        "* (&) Retorna verdadeiro somente se todas as condições de uma comparação forem satisfeitas."
      ],
      "metadata": {
        "id": "VbwsPsBUekNk"
      }
    },
    {
      "cell_type": "code",
      "source": [
        "# Exemplo and:\n",
        "\n",
        "teste8 = 3 >= 2 and 3 != 2 and 3 < 4\n",
        "print(f'3 >= 2 and 3 != 2 and 3 < 4 é: {teste8}')\n",
        "\n",
        "\n",
        "# Exemplo &:\n",
        "\n",
        "teste9 = (3 <= 2) & (3 != 2) & (3 < 4) #bitwise\n",
        "#           F           V         V\n",
        "print(f'(3 <= 2) & (3 != 2) & (3 < 4) é: {teste9}')"
      ],
      "metadata": {
        "colab": {
          "base_uri": "https://localhost:8080/"
        },
        "id": "aeY3XOhBAzzm",
        "outputId": "1496654a-89a2-4ef0-9b9b-9f0c9066fcbe"
      },
      "execution_count": null,
      "outputs": [
        {
          "output_type": "stream",
          "name": "stdout",
          "text": [
            "3 >= 2 and 3 != 2 and 3 < 4 é: True\n",
            "(3 <= 2) & (3 != 2) & (3 < 4) é: False\n"
          ]
        }
      ]
    },
    {
      "cell_type": "markdown",
      "source": [
        "* (or) Retorna verdadeiro se pelo menos um dos elementos for verdadeiro"
      ],
      "metadata": {
        "id": "zAiE9H-Pe3JX"
      }
    },
    {
      "cell_type": "code",
      "source": [
        "# Exemplo:\n",
        "\n",
        "teste10 = 3 >= 2 or 3 == 2 or 3 > 4\n",
        "\n",
        "teste15 = (3 >= 2) | (3 == 2) | (3 > 4)\n",
        "print(f'3 >= 2 or 3 == 2 or 3 > 43 >= 2 or 3 == 2 or 3 > 4 é: {teste10}')"
      ],
      "metadata": {
        "colab": {
          "base_uri": "https://localhost:8080/"
        },
        "id": "5hL2vL9RA1rI",
        "outputId": "6dffe879-3ea3-4915-e371-5299905e35c7"
      },
      "execution_count": null,
      "outputs": [
        {
          "output_type": "stream",
          "name": "stdout",
          "text": [
            "3 >= 2 or 3 == 2 or 3 > 43 >= 2 or 3 == 2 or 3 > 4 é: True\n"
          ]
        }
      ]
    },
    {
      "cell_type": "markdown",
      "source": [
        "* (not) Inverte verdadeiro com Falso"
      ],
      "metadata": {
        "id": "OAaBJKlZe60g"
      }
    },
    {
      "cell_type": "code",
      "source": [
        "# Exemplo:\n",
        "\n",
        "teste11 = not(teste10)\n",
        "print(f'not(3 >= 2 or 3 == 2 or 3 > 4) é: {teste11}')\n",
        "\n",
        "teste12 = not(teste9)\n",
        "print(f'not((3 <= 2) & (3 != 2) & (3 < 4)) é: {teste12}')\n",
        "\n",
        "teste13 = ((not(3 <= 2))) & (not(3 == 2)) & (3 < 4) # invertendo o resultado da primeira sentença e da segunda sentença\n",
        "#               V                 V            V\n",
        "print(f'((not(3 <= 2))) & (not(3 == 2)) & (3 < 4) é: {teste13}')\n",
        "\n",
        "teste14 = not((3 >= 2) & (3 != 2) & (3 < 4)) # invertendo o resultado da comparação de todas as sentenças\n",
        "#                 V         V           V\n",
        "print(f'not((3 >= 2) & (3 != 2) & (3 < 4)) é: {teste14}')\n",
        "print(teste15)"
      ],
      "metadata": {
        "colab": {
          "base_uri": "https://localhost:8080/"
        },
        "id": "NgVLNJEbA59b",
        "outputId": "9719b9ea-9e1e-45a3-953e-d13a1a8529d8"
      },
      "execution_count": null,
      "outputs": [
        {
          "output_type": "stream",
          "name": "stdout",
          "text": [
            "not(3 >= 2 or 3 == 2 or 3 > 4) é: False\n",
            "not((3 <= 2) & (3 != 2) & (3 < 4)) é: True\n",
            "((not(3 <= 2))) & (not(3 == 2)) & (3 < 4) é: True\n",
            "not((3 >= 2) & (3 != 2) & (3 < 4)) é: False\n",
            "True\n"
          ]
        }
      ]
    },
    {
      "cell_type": "markdown",
      "source": [
        "### **Operadores de identidade (is, is not)**"
      ],
      "metadata": {
        "id": "7cHNI5LjtIQI"
      }
    },
    {
      "cell_type": "markdown",
      "source": [
        "* (is) compara se um objeto é igual ao outro tando em valor como em tipo"
      ],
      "metadata": {
        "id": "mAIwFmSzieA8"
      }
    },
    {
      "cell_type": "code",
      "source": [
        "h = 3\n",
        "p = 3\n",
        "teste16 = p == h\n",
        "print(f'p == h é: {teste16}')\n",
        "\n",
        "teste17 = p is h # isso envolve não só o valor, mas o tipo de valor\n",
        "print(f'p is h é: {teste17}')\n",
        "m = 3\n",
        "n = 3.0\n",
        "\n",
        "teste18 = m == n\n",
        "print(f'm == n é: {teste18}')\n",
        "\n",
        "teste19 = m is n # eles possuem o mesmo valor e são do mesmo tipo?\n",
        "print(f'm is n é: {teste19}')\n",
        "print(type(m))\n",
        "print(type(n))"
      ],
      "metadata": {
        "colab": {
          "base_uri": "https://localhost:8080/"
        },
        "id": "cZ4-tI2zA_O0",
        "outputId": "5d8df3f3-b29e-4d9f-d160-185fff70463e"
      },
      "execution_count": null,
      "outputs": [
        {
          "output_type": "stream",
          "name": "stdout",
          "text": [
            "p == h é: True\n",
            "p is h é: True\n",
            "m == n é: True\n",
            "m is n é: False\n",
            "<class 'int'>\n",
            "<class 'float'>\n"
          ]
        }
      ]
    },
    {
      "cell_type": "markdown",
      "source": [
        "* (is not) compara se um objeto é diferente do outro em relação ao valor e o tipo"
      ],
      "metadata": {
        "id": "ngBIx9MhijH1"
      }
    },
    {
      "cell_type": "code",
      "source": [
        "x = 3\n",
        "y = 4\n",
        "teste20 = x != y\n",
        "print(f'x != y é: {teste20}')\n",
        "\n",
        "teste21 = x is not y\n",
        "print(f'x is y: {teste21}')\n",
        "o = 3\n",
        "s = 3.0\n",
        "\n",
        "teste22 = o != s\n",
        "print(f'o != s é: {teste22}')\n",
        "\n",
        "teste23 = o is not s\n",
        "print(f'o is s é: {teste23}')\n",
        "print(type(o))\n",
        "print(type(s))"
      ],
      "metadata": {
        "colab": {
          "base_uri": "https://localhost:8080/"
        },
        "id": "4iE7tqMGtO9m",
        "outputId": "539a315b-226d-4cff-e021-5e5062df44e8"
      },
      "execution_count": null,
      "outputs": [
        {
          "output_type": "stream",
          "name": "stdout",
          "text": [
            "x != y é: True\n",
            "x is y: True\n",
            "o != s é: False\n",
            "o is s é: True\n",
            "<class 'int'>\n",
            "<class 'float'>\n"
          ]
        }
      ]
    },
    {
      "cell_type": "markdown",
      "source": [
        "### **Operadores de associação**"
      ],
      "metadata": {
        "id": "wPN87KuJxH-w"
      }
    },
    {
      "cell_type": "markdown",
      "source": [
        "* (in) Retorna verdadeiro se um caracter ou sequência de caractes forem encontrados dentro de uma string"
      ],
      "metadata": {
        "id": "YWVc1gkOiw_L"
      }
    },
    {
      "cell_type": "code",
      "source": [
        "# Exemplo:\n",
        "\n",
        "nome = 'bianka'\n",
        "teste24 = 'bia' in nome\n",
        "print(f'bianka contém bia: {teste24}')"
      ],
      "metadata": {
        "id": "LaTQRUoBxMuA",
        "colab": {
          "base_uri": "https://localhost:8080/"
        },
        "outputId": "e6c32b62-7c56-4847-e031-e1b4e927b9fa"
      },
      "execution_count": null,
      "outputs": [
        {
          "output_type": "stream",
          "name": "stdout",
          "text": [
            "bianka contém bia: True\n"
          ]
        }
      ]
    },
    {
      "cell_type": "markdown",
      "source": [
        "* (not in) Retorna verdadeiro se um caracter ou sequencia de caracteres NÃO for encontrado dentro de uma string"
      ],
      "metadata": {
        "id": "FFvFDxx9iz6V"
      }
    },
    {
      "cell_type": "code",
      "source": [
        "# Exemplo:\n",
        "\n",
        "teste25 = 'Bia' not in nome\n",
        "print(f'bianka não contém Bia: {teste25}')"
      ],
      "metadata": {
        "colab": {
          "base_uri": "https://localhost:8080/"
        },
        "id": "YZ0NlxEJBIBb",
        "outputId": "8781e43c-2a71-4766-f267-39f72d5f3dc8"
      },
      "execution_count": null,
      "outputs": [
        {
          "output_type": "stream",
          "name": "stdout",
          "text": [
            "bianka não contém Bia: True\n"
          ]
        }
      ]
    },
    {
      "cell_type": "markdown",
      "source": [
        "## **Coletando informações do usuário**"
      ],
      "metadata": {
        "id": "JCx3MgiR0LCU"
      }
    },
    {
      "cell_type": "code",
      "source": [
        "nome = input('Informe seu nome ')\n",
        "print(f'O nome digitado é: {nome}')\n",
        "\n",
        "peso = int(input('Informe seu peso em kg inteiros: '))\n",
        "print(f'{nome} tem: {peso} kg')\n",
        "type(peso)\n",
        "\n",
        "altura = float (input('Informe sua altura em metros: '))\n",
        "print(f'{nome} tem {peso} kg e {altura} metros de altura')\n",
        "\n",
        "imc = peso / (altura)**2\n",
        "print(f'{nome}, seu imc é: {imc:.1f}') # para exibir o número float apena com uma casa decimal"
      ],
      "metadata": {
        "colab": {
          "base_uri": "https://localhost:8080/"
        },
        "id": "BtovOToY0TQ7",
        "outputId": "3ea1e4a3-4ebd-48a2-dce2-1f71e70624f8"
      },
      "execution_count": null,
      "outputs": [
        {
          "output_type": "stream",
          "name": "stdout",
          "text": [
            "Informe seu nome bianka\n",
            "O nome digitado é: bianka\n",
            "Informe seu peso em kg inteiros: 26\n",
            "bianka tem: 26 kg\n",
            "Informe sua altura em metros: 1.56\n",
            "bianka tem 26 kg e 1.56 metros de altura\n",
            "bianka, seu imc é: 10.7\n"
          ]
        }
      ]
    },
    {
      "cell_type": "markdown",
      "source": [
        "## **Strings**"
      ],
      "metadata": {
        "id": "_JEBXVqw7wOe"
      }
    },
    {
      "cell_type": "markdown",
      "source": [
        "### **Encontrando caracteres pelo índice**"
      ],
      "metadata": {
        "id": "hvVj-fNfKeQ3"
      }
    },
    {
      "cell_type": "markdown",
      "source": [
        "![String.jpg](data:image/jpeg;base64,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)"
      ],
      "metadata": {
        "id": "bCSCVGtbjFER"
      }
    },
    {
      "cell_type": "code",
      "source": [
        "#  0   1   2   3   4   5  6  7  8  9  10  11  12  13 (índice)\n",
        "# -14 -13 -12 -11 -10 -9 -8 -7 -6 -5  -4  -3  -2  -1\n",
        "#  1º  2º  3º  4º  5º  6º 7º 8º 9º 10º 11º 12º 13º 14º (ordinal)\n",
        "#  d   o   u   g   @   g  m  a  i   l   .   c   o   m\n",
        "\n",
        "email = 'doug@gmail.com'\n",
        "\n",
        "# Exemplo: qual é o quinto caracter dessa string?\n",
        "print(f'O quinto caracter dessa sting é: {email[4]}')\n",
        "\n",
        "# Exemplo: qual é o último caracter dessa sting?\n",
        "print(f'O último caracter dessa sting é: {email[13]}')\n",
        "\n",
        "# Exemplo: Quais são os caracteres que vem depois do 2º caracter (excluindo o 2º)?\n",
        "print(f'A sequência de caracteres dessa sting após o segundo é: {email[2:]}')\n",
        "\n",
        "# Exemplo: Quais são todos os caracteres dessa string?\n",
        "print(f'A sequência de todos os caracteres dessa string é: {email[:]}')\n",
        "\n",
        "# Exemplo: buscar e imprimir todos os caracter de índice 4 (todos os caracteres antes do @ até o @ incluindo o @)\n",
        "print(f'A sequência de caracteres dessa string até o índice 4 é: {email[:5]}') # A esquerda do : é inclusive e a direita dos : é exclusive.\n",
        "\n",
        "# Exemplo: como acessar o último caracter da lista sem contar o tamanho dela (sem usar a função len)\n",
        "# len(email) # Função do Python que conta tamanho de objeto\n",
        "print(f'O último caracter dessa string é: {email[-1]}')\n"
      ],
      "metadata": {
        "id": "zjo5K-Br7z4D",
        "colab": {
          "base_uri": "https://localhost:8080/"
        },
        "outputId": "0ec1a235-4c13-46ae-b458-287915bba9d3"
      },
      "execution_count": null,
      "outputs": [
        {
          "output_type": "stream",
          "name": "stdout",
          "text": [
            "O quinto caracter dessa sting é: @\n",
            "O último caracter dessa sting é: m\n",
            "A sequência de caracteres dessa sting após o segundo é: ug@gmail.com\n",
            "A sequência de todos os caracteres dessa string é: doug@gmail.com\n",
            "A sequência de caracteres dessa string até o índice 4 é: doug@\n",
            "O último caracter dessa string é: m\n"
          ]
        }
      ]
    },
    {
      "cell_type": "markdown",
      "source": [
        "### **Métodos para Strings**"
      ],
      "metadata": {
        "id": "SQkhzAblJed0"
      }
    },
    {
      "cell_type": "markdown",
      "source": [
        "* Sinal de (+) para concatenar strings"
      ],
      "metadata": {
        "id": "evNbeQHdjVGd"
      }
    },
    {
      "cell_type": "code",
      "source": [
        "# Exemplo:\n",
        "\n",
        "nome = 'Bianka'\n",
        "sobre = 'Cristina'\n",
        "print(nome + \" \" + sobre)"
      ],
      "metadata": {
        "id": "yQ8GAPH2BQZ0",
        "colab": {
          "base_uri": "https://localhost:8080/"
        },
        "outputId": "35eaf33f-85c8-40cb-d648-7bd5d687c183"
      },
      "execution_count": null,
      "outputs": [
        {
          "output_type": "stream",
          "name": "stdout",
          "text": [
            "Bianka Cristina\n"
          ]
        }
      ]
    },
    {
      "cell_type": "markdown",
      "source": [
        "* Converter um número em string"
      ],
      "metadata": {
        "id": "0rot9hUZjXnd"
      }
    },
    {
      "cell_type": "code",
      "source": [
        "# Exemplo:\n",
        "\n",
        "cpf = 12345678910\n",
        "cpf = str(cpf)\n",
        "print(type(cpf))"
      ],
      "metadata": {
        "id": "BwskZyvaBR3b",
        "colab": {
          "base_uri": "https://localhost:8080/"
        },
        "outputId": "820d10b0-13dd-441e-be81-b1b40c04edb5"
      },
      "execution_count": null,
      "outputs": [
        {
          "output_type": "stream",
          "name": "stdout",
          "text": [
            "<class 'str'>\n"
          ]
        }
      ]
    },
    {
      "cell_type": "markdown",
      "source": [
        "* (in) Retorna verdadeiro se um caracter ou sequencia de caracteres for encontrado dentro de uma string"
      ],
      "metadata": {
        "id": "P8ovfcLVjbjD"
      }
    },
    {
      "cell_type": "code",
      "source": [
        "# Exemplo:\n",
        "\n",
        "nomen = 'daniela'\n",
        "testen = 'dani' in nomen\n",
        "print(f'daniela contém dani: {testen}')"
      ],
      "metadata": {
        "id": "wOjb-kRWBUcy",
        "colab": {
          "base_uri": "https://localhost:8080/"
        },
        "outputId": "2ab86352-f203-413d-a398-8beb0b8ea8c9"
      },
      "execution_count": null,
      "outputs": [
        {
          "output_type": "stream",
          "name": "stdout",
          "text": [
            "daniela contém dani: True\n"
          ]
        }
      ]
    },
    {
      "cell_type": "markdown",
      "source": [
        "* (not in) Retorna verdadeiro se um caracter ou sequencia de caracteres NÃO for encontrado dentro de uma string"
      ],
      "metadata": {
        "id": "ePQg_RBFjsO2"
      }
    },
    {
      "cell_type": "code",
      "source": [
        "# Exemplo:\n",
        "\n",
        "testen = 'Dani' not in nomen\n",
        "print(f'daniela não contém Dani: {testen}')"
      ],
      "metadata": {
        "id": "eGWfdfTlBV2g",
        "colab": {
          "base_uri": "https://localhost:8080/"
        },
        "outputId": "00a91b9e-bcbe-47ef-fc67-deefdd586cb3"
      },
      "execution_count": null,
      "outputs": [
        {
          "output_type": "stream",
          "name": "stdout",
          "text": [
            "daniela não contém Dani: True\n"
          ]
        }
      ]
    },
    {
      "cell_type": "markdown",
      "source": [
        "* (len) Contar o número de caracteres de uma string"
      ],
      "metadata": {
        "id": "2f5aejlmjwpK"
      }
    },
    {
      "cell_type": "code",
      "source": [
        "# Exemplo\n",
        "\n",
        "qtde = len(nome)\n",
        "print(f'{nome} tem {qtde} caracteres')"
      ],
      "metadata": {
        "id": "twmJ2EI0JuNN",
        "colab": {
          "base_uri": "https://localhost:8080/"
        },
        "outputId": "f2ebc1a2-a184-4f72-d4b3-08b6b6753fe5"
      },
      "execution_count": null,
      "outputs": [
        {
          "output_type": "stream",
          "name": "stdout",
          "text": [
            "Bianka tem 6 caracteres\n"
          ]
        }
      ]
    },
    {
      "cell_type": "markdown",
      "source": [
        "### **Métodos específicos para strings**"
      ],
      "metadata": {
        "id": "ky7swOfnNY_9"
      }
    },
    {
      "cell_type": "markdown",
      "source": [
        "* .capitaliza() - Método para deixar a primeira letra de um string maiúscula"
      ],
      "metadata": {
        "id": "6cD9tnMsj5sN"
      }
    },
    {
      "cell_type": "code",
      "source": [
        "# Exemplo:\n",
        "\n",
        "nomem = 'douglas'\n",
        "print(nomem)\n",
        "nomem = nomem.capitalize()\n",
        "print(nomem)"
      ],
      "metadata": {
        "id": "NNdqhpseNenn",
        "colab": {
          "base_uri": "https://localhost:8080/"
        },
        "outputId": "bdb98e9c-83d8-47e7-dcc9-8f988d96843d"
      },
      "execution_count": null,
      "outputs": [
        {
          "output_type": "stream",
          "name": "stdout",
          "text": [
            "douglas\n",
            "Douglas\n"
          ]
        }
      ]
    },
    {
      "cell_type": "markdown",
      "source": [
        "* .casefold() - Método para deixar todas as letras minúscula"
      ],
      "metadata": {
        "id": "OMR04svOkBaR"
      }
    },
    {
      "cell_type": "code",
      "source": [
        "# Exemplo:\n",
        "\n",
        "nomem = nomem.casefold()\n",
        "print(nomen)"
      ],
      "metadata": {
        "id": "7GZD64k1BbXA",
        "colab": {
          "base_uri": "https://localhost:8080/"
        },
        "outputId": "f4697be8-8b4e-497d-c201-a475fba6b31a"
      },
      "execution_count": null,
      "outputs": [
        {
          "output_type": "stream",
          "name": "stdout",
          "text": [
            "daniela\n"
          ]
        }
      ]
    },
    {
      "cell_type": "markdown",
      "source": [
        "* .count() - Contar quantas vezes um caracter aparece em uma string"
      ],
      "metadata": {
        "id": "XqPWDKVKkHUR"
      }
    },
    {
      "cell_type": "code",
      "source": [
        "# Exemplo:\n",
        "\n",
        "material = 'paralelepipedo'\n",
        "qtde_p = material.count('p')\n",
        "print(f'{material} tem {qtde_p} Ps ')"
      ],
      "metadata": {
        "id": "a9IhEizxRnAd",
        "colab": {
          "base_uri": "https://localhost:8080/"
        },
        "outputId": "2b5ecb86-f4c0-4c74-89f1-da01afabc4b1"
      },
      "execution_count": null,
      "outputs": [
        {
          "output_type": "stream",
          "name": "stdout",
          "text": [
            "paralelepipedo tem 3 Ps \n"
          ]
        }
      ]
    },
    {
      "cell_type": "markdown",
      "source": [
        "* .endswith() - Verifica se uma string termina com um caracter ou sequência de caracteres"
      ],
      "metadata": {
        "id": "tBCxE5vukTkx"
      }
    },
    {
      "cell_type": "code",
      "source": [
        "# Exemplo:\n",
        "\n",
        "email = 'doug@gmail.com'\n",
        "teste_end = email.endswith('gmail.com')\n",
        "print(teste_end)"
      ],
      "metadata": {
        "id": "8eoHxPVGTR66",
        "colab": {
          "base_uri": "https://localhost:8080/"
        },
        "outputId": "43a60d6f-dff2-4125-cc3d-0434fa46f24f"
      },
      "execution_count": null,
      "outputs": [
        {
          "output_type": "stream",
          "name": "stdout",
          "text": [
            "True\n"
          ]
        }
      ]
    },
    {
      "cell_type": "markdown",
      "source": [
        "* .startwith() - Verifica se uma string começa com um caracter ou sequência de caracteres"
      ],
      "metadata": {
        "id": "WL8A1Ux1kgV1"
      }
    },
    {
      "cell_type": "code",
      "source": [
        "# Exemplo:\n",
        "\n",
        "email = 'doug@gmail.com'\n",
        "teste_beg = email.startswith('d')\n",
        "print(teste_beg)"
      ],
      "metadata": {
        "id": "ecfF5lZVUbxO",
        "colab": {
          "base_uri": "https://localhost:8080/"
        },
        "outputId": "ecf2716b-065d-4389-d963-ab0a6a33cfc3"
      },
      "execution_count": null,
      "outputs": [
        {
          "output_type": "stream",
          "name": "stdout",
          "text": [
            "True\n"
          ]
        }
      ]
    },
    {
      "cell_type": "markdown",
      "source": [
        "* .isnumeric() - Verifica se uma string é formada por números"
      ],
      "metadata": {
        "id": "4Fx8ymvnkkw-"
      }
    },
    {
      "cell_type": "code",
      "source": [
        "# Exemplo:\n",
        "\n",
        "rg = '1234567'\n",
        "teste_rg = rg.isnumeric()\n",
        "print(teste_rg)"
      ],
      "metadata": {
        "id": "UKMWccPtVH53",
        "colab": {
          "base_uri": "https://localhost:8080/"
        },
        "outputId": "d440df89-2a0a-476e-e6a7-f7011f679924"
      },
      "execution_count": null,
      "outputs": [
        {
          "output_type": "stream",
          "name": "stdout",
          "text": [
            "True\n"
          ]
        }
      ]
    },
    {
      "cell_type": "markdown",
      "source": [
        "* .isalpha() - Verifica se uma string é formada por letras"
      ],
      "metadata": {
        "id": "B9s8esVoktcS"
      }
    },
    {
      "cell_type": "code",
      "source": [
        "# Exemplo:\n",
        "\n",
        "rg2 = 'doug'\n",
        "teste_rg2 = rg2.isalpha()\n",
        "print(teste_rg2)"
      ],
      "metadata": {
        "id": "ldov7h4mWAeB",
        "colab": {
          "base_uri": "https://localhost:8080/"
        },
        "outputId": "3e002345-cd91-49d9-aa33-bc4397960de7"
      },
      "execution_count": null,
      "outputs": [
        {
          "output_type": "stream",
          "name": "stdout",
          "text": [
            "True\n"
          ]
        }
      ]
    },
    {
      "cell_type": "markdown",
      "source": [
        "* .isalnum() - Verifica se uma string é formada por letras ou números"
      ],
      "metadata": {
        "id": "dvOSV3-hk0MJ"
      }
    },
    {
      "cell_type": "code",
      "source": [
        "# Exemplo:\n",
        "\n",
        "rg3 = '123456789'\n",
        "teste_rg3 = rg3.isalnum()\n",
        "print(teste_rg3)\n",
        "\n",
        "# o mais abrangente, pega qualquer caractere, inclusive espaço."
      ],
      "metadata": {
        "id": "XGwRtJ9jWVdG",
        "colab": {
          "base_uri": "https://localhost:8080/"
        },
        "outputId": "d83d7346-9e5d-48fc-9571-35da23ff4cfd"
      },
      "execution_count": null,
      "outputs": [
        {
          "output_type": "stream",
          "name": "stdout",
          "text": [
            "True\n"
          ]
        }
      ]
    },
    {
      "cell_type": "markdown",
      "source": [
        "* .split() - Separa uma string por caracteres espeíficos, se não for especificado o caracter ela assume espaço como separador"
      ],
      "metadata": {
        "id": "JQgMvWpXk63l"
      }
    },
    {
      "cell_type": "code",
      "source": [
        "# Exemplo:\n",
        "\n",
        "dados = input('Informe os valores separados por espaços ')\n",
        "dados_sep = dados.split() #$\n",
        "print(dados_sep)"
      ],
      "metadata": {
        "id": "_IhXtcJkWwuM",
        "colab": {
          "base_uri": "https://localhost:8080/"
        },
        "outputId": "2c321b6d-f15e-4e4e-bffd-af64e59a6eee"
      },
      "execution_count": null,
      "outputs": [
        {
          "output_type": "stream",
          "name": "stdout",
          "text": [
            "Informe os valores separados por espaços 1 2  3 3\n",
            "['1', '2', '3', '3']\n"
          ]
        }
      ]
    },
    {
      "cell_type": "markdown",
      "source": [
        "* .strip() - Elimina caracteres indesejados de uma string, por padrão remove espaços do início e do final da string"
      ],
      "metadata": {
        "id": "RJUE3x3QlJ4_"
      }
    },
    {
      "cell_type": "code",
      "source": [
        "# Exemplo:\n",
        "\n",
        "autor = ' Douglas '\n",
        "print(len(autor))\n",
        "autor = autor.strip()\n",
        "print(len(autor))"
      ],
      "metadata": {
        "id": "AAfk5bdgXer0",
        "colab": {
          "base_uri": "https://localhost:8080/"
        },
        "outputId": "6fd48e28-5488-4d7d-a364-4fcc79e61643"
      },
      "execution_count": null,
      "outputs": [
        {
          "output_type": "stream",
          "name": "stdout",
          "text": [
            "9\n",
            "7\n"
          ]
        }
      ]
    },
    {
      "cell_type": "markdown",
      "source": [
        "* .replace() - Substitui um caracter por outro"
      ],
      "metadata": {
        "id": "51RKLVOvlnuk"
      }
    },
    {
      "cell_type": "code",
      "source": [
        "# Exemplo:\n",
        "\n",
        "preco = 'R$ 10.50'\n",
        "print(preco)\n",
        "preco = preco.replace('.',',')\n",
        "print(preco)"
      ],
      "metadata": {
        "id": "Luup-IPeZm4J",
        "colab": {
          "base_uri": "https://localhost:8080/"
        },
        "outputId": "95fd8e04-ad8a-4c04-973d-277d5d895463"
      },
      "execution_count": null,
      "outputs": [
        {
          "output_type": "stream",
          "name": "stdout",
          "text": [
            "R$ 10.50\n",
            "R$ 10,50\n"
          ]
        }
      ]
    },
    {
      "cell_type": "markdown",
      "source": [
        "* .title() - Coloca a primeira letra de cada palavra em maiúscula"
      ],
      "metadata": {
        "id": "tQld2KY2mnpS"
      }
    },
    {
      "cell_type": "code",
      "source": [
        "# Exemplo:\n",
        "\n",
        "comp = 'douglas almeida ribeiro'\n",
        "print(comp)\n",
        "comp = comp.title()\n",
        "print(comp)"
      ],
      "metadata": {
        "id": "9XSf7JJvaHg-",
        "colab": {
          "base_uri": "https://localhost:8080/"
        },
        "outputId": "dca5eed6-d0f5-4333-cf3a-1e7634a349b5"
      },
      "execution_count": null,
      "outputs": [
        {
          "output_type": "stream",
          "name": "stdout",
          "text": [
            "douglas almeida ribeiro\n",
            "Douglas Almeida Ribeiro\n"
          ]
        }
      ]
    },
    {
      "cell_type": "markdown",
      "source": [
        "* .upper() - Coloca todas as letras de um texto em maiúsculas"
      ],
      "metadata": {
        "id": "D38P6STlmt4t"
      }
    },
    {
      "cell_type": "code",
      "source": [
        "# Exemplo:\n",
        "\n",
        "prof = 'douglas'\n",
        "print(prof)\n",
        "prof = prof.upper()\n",
        "print(prof)"
      ],
      "metadata": {
        "id": "hJDOUn3IauJ0",
        "colab": {
          "base_uri": "https://localhost:8080/"
        },
        "outputId": "15f13345-11ba-48f3-988e-301a786dd9f4"
      },
      "execution_count": null,
      "outputs": [
        {
          "output_type": "stream",
          "name": "stdout",
          "text": [
            "douglas\n",
            "DOUGLAS\n"
          ]
        }
      ]
    },
    {
      "cell_type": "markdown",
      "source": [
        "## **Estrutura de Condição - If, elif, else**"
      ],
      "metadata": {
        "id": "6lpcTy7-DGbh"
      }
    },
    {
      "cell_type": "markdown",
      "source": [
        "Instrução \"If\":\n",
        "\n",
        "* A instrução \"if\" é usada para executar um bloco de código se uma determinada condição for verdadeira. A sintaxe geral é a seguinte:"
      ],
      "metadata": {
        "id": "J1m8_glyDt7_"
      }
    },
    {
      "cell_type": "code",
      "source": [
        "''' if condição:\n",
        "        # bloco de código a ser executado se a condição for verdadeira\n",
        "'''"
      ],
      "metadata": {
        "id": "k65W4U7GD_an",
        "colab": {
          "base_uri": "https://localhost:8080/",
          "height": 35
        },
        "outputId": "293ee9fe-bfef-4c82-91ac-4425ea5f3c5a"
      },
      "execution_count": null,
      "outputs": [
        {
          "output_type": "execute_result",
          "data": {
            "text/plain": [
              "' if condição:\\n        # bloco de código a ser executado se a condição for verdadeira\\n'"
            ],
            "application/vnd.google.colaboratory.intrinsic+json": {
              "type": "string"
            }
          },
          "metadata": {},
          "execution_count": 81
        }
      ]
    },
    {
      "cell_type": "code",
      "source": [
        "idade = 19\n",
        "if idade >= 18:                   # : - Faça alguma coisa\n",
        "  print('Você é maior de idade.')"
      ],
      "metadata": {
        "colab": {
          "base_uri": "https://localhost:8080/"
        },
        "id": "UZA6fqyMEMcu",
        "outputId": "d27f6194-b43b-4621-b2d3-dbf30eb97e8c"
      },
      "execution_count": null,
      "outputs": [
        {
          "output_type": "stream",
          "name": "stdout",
          "text": [
            "Você é maior de idade.\n"
          ]
        }
      ]
    },
    {
      "cell_type": "code",
      "source": [
        "idade = 18\n",
        "if idade >= 18:\n",
        "  print('Você é maior de idade.')"
      ],
      "metadata": {
        "colab": {
          "base_uri": "https://localhost:8080/"
        },
        "id": "AV56s1rQDse7",
        "outputId": "31d3205f-153f-47f1-d269-5276a31dac2d"
      },
      "execution_count": null,
      "outputs": [
        {
          "output_type": "stream",
          "name": "stdout",
          "text": [
            "Você é maior de idade.\n"
          ]
        }
      ]
    },
    {
      "cell_type": "code",
      "source": [
        "idade = 17\n",
        "if idade >= 18:\n",
        "  print('Você é maior de idade.')"
      ],
      "metadata": {
        "id": "mFv4F6izEjkf"
      },
      "execution_count": null,
      "outputs": []
    },
    {
      "cell_type": "markdown",
      "source": [
        "Instrução 'else':\n",
        "\n",
        "* A instrução \"else\" é usada em conjunto com a instrução \"if\" e especificada um bloco a ser executado se a condição if não for verdadeira. A sintaxe geral é a seguinte:"
      ],
      "metadata": {
        "id": "Ew536BqGEzJg"
      }
    },
    {
      "cell_type": "code",
      "source": [
        "''' if condição:\n",
        "        # bloco de código a ser executado se a condição for verdadeira\n",
        "else:\n",
        "        # bloco de código a ser executado se a condição não for verdadeira\n",
        "'''"
      ],
      "metadata": {
        "id": "UHFmB9NeHj5l",
        "colab": {
          "base_uri": "https://localhost:8080/",
          "height": 53
        },
        "outputId": "fc395c04-ee42-41e1-8c4e-b57521cf4356"
      },
      "execution_count": null,
      "outputs": [
        {
          "output_type": "execute_result",
          "data": {
            "text/plain": [
              "' if condição:\\n        # bloco de código a ser executado se a condição for verdadeira\\nelse:\\n        # bloco de código a ser executado se a condição não for verdadeira\\n'"
            ],
            "application/vnd.google.colaboratory.intrinsic+json": {
              "type": "string"
            }
          },
          "metadata": {},
          "execution_count": 85
        }
      ]
    },
    {
      "cell_type": "code",
      "source": [
        "idade = int(input('Digite sua idade: '))\n",
        "\n",
        "if idade >= 18:\n",
        "  print('Você é maior de idade.')\n",
        "else:\n",
        "  print('Você é maior de idade.')"
      ],
      "metadata": {
        "id": "lym8PRWxE28Q",
        "colab": {
          "base_uri": "https://localhost:8080/"
        },
        "outputId": "be1eaf2d-4ad8-4195-c06e-baf4a30c7259"
      },
      "execution_count": null,
      "outputs": [
        {
          "output_type": "stream",
          "name": "stdout",
          "text": [
            "Digite sua idade: 18\n",
            "Você é maior de idade.\n"
          ]
        }
      ]
    },
    {
      "cell_type": "markdown",
      "source": [
        "Instrução \"elif\":\n",
        "\n",
        "* A instrução \"elif\" é uma abreviação de \"else if\" e permite testar múltiplas\n"
      ],
      "metadata": {
        "id": "c6Bz7AnJJCo0"
      }
    },
    {
      "cell_type": "code",
      "source": [
        "'''\n",
        "if condição1:\n",
        "        # bloco de código a ser executado se a condição1 for verdadeira\n",
        "elif condição2:\n",
        "        # # bloco de código a ser executado se a condição2 for verdadeira\n",
        "else:\n",
        "        # bloco de código a ser executado se nenhuma das condições anteriores forem verdadeiras.\n",
        "'''"
      ],
      "metadata": {
        "id": "zER2QahWJ2Xq",
        "colab": {
          "base_uri": "https://localhost:8080/",
          "height": 70
        },
        "outputId": "a9331e7d-fdd5-4ad5-9a6a-79f6df35c1d4"
      },
      "execution_count": null,
      "outputs": [
        {
          "output_type": "execute_result",
          "data": {
            "text/plain": [
              "'\\nif condição1:\\n        # bloco de código a ser executado se a condição1 for verdadeira\\nelif condição2:\\n        # # bloco de código a ser executado se a condição2 for verdadeira\\nelse:\\n        # bloco de código a ser executado se nenhuma das condições anteriores forem verdadeiras.\\n'"
            ],
            "application/vnd.google.colaboratory.intrinsic+json": {
              "type": "string"
            }
          },
          "metadata": {},
          "execution_count": 87
        }
      ]
    },
    {
      "cell_type": "code",
      "source": [
        "nota = float(input('Digite sua nota: '))\n",
        "\n",
        "if nota >= 90:\n",
        "    print('Sua nota é A.')\n",
        "\n",
        "elif nota >= 80:\n",
        "    print('Sua nota é B.')\n",
        "\n",
        "elif nota >= 70:\n",
        "    print('Sua nota é C.')\n",
        "\n",
        "else:\n",
        "    print('Sua nota é D.')"
      ],
      "metadata": {
        "id": "6bESpUfIKzgX",
        "colab": {
          "base_uri": "https://localhost:8080/"
        },
        "outputId": "67d5609b-57e1-4571-a9a6-c73b5db7558a"
      },
      "execution_count": null,
      "outputs": [
        {
          "output_type": "stream",
          "name": "stdout",
          "text": [
            "Digite sua nota: 5\n",
            "Sua nota é D.\n"
          ]
        }
      ]
    },
    {
      "cell_type": "markdown",
      "source": [
        "Exemplo:\n",
        "* Escreva um programa que verifique se um número digitado pelo usuário é positivo, negativo ou zero."
      ],
      "metadata": {
        "id": "CtpUaFiuOxoo"
      }
    },
    {
      "cell_type": "markdown",
      "source": [
        "Passo a passo:\n",
        "1. Solicite ao usuário que digite um número.\n",
        "2. Armazene o número em uma variável chamada \"numero\".\n",
        "3. Verifique se o número digitado é igual a zero. Se si, exiba a mensagem \"O número digitado é zero.\"\n",
        "4. Caso contrário, verifique se o número é maior do que zero. Se sim, exiba a mensagem \"O número digitado é positivo.\"\n",
        "5. Se nenhuma das condições anteriores for atendida, significa que o número é negativo. Nesse caso, exiba a mensagem \"O número digitado é negativo.\"\n",
        "6. Encerre o programa."
      ],
      "metadata": {
        "id": "twAO5wm9O8wF"
      }
    },
    {
      "cell_type": "code",
      "source": [
        "numero = float(input(\"Digite um número: \"))\n",
        "\n",
        "if numero == 0:\n",
        "    print(\"O número digitado é zero.\")\n",
        "elif numero > 0:\n",
        "    print(\"O número digitado é positivo.\")\n",
        "else:\n",
        "    print(\"O número digitado é negativo.\")"
      ],
      "metadata": {
        "colab": {
          "base_uri": "https://localhost:8080/"
        },
        "id": "MB88evSEP8KA",
        "outputId": "52f026ce-72e5-46af-bef8-46b64f335943"
      },
      "execution_count": null,
      "outputs": [
        {
          "output_type": "stream",
          "name": "stdout",
          "text": [
            "Digite um número: 45\n",
            "O número digitado é positivo.\n"
          ]
        }
      ]
    },
    {
      "cell_type": "markdown",
      "source": [
        "## **Estruturas de dados em Python**"
      ],
      "metadata": {
        "id": "hDGkqxNK869G"
      }
    },
    {
      "cell_type": "markdown",
      "source": [
        "### **Listas**\n",
        "\n",
        "* É uma estrutura que pode armazenar diversos valores sobre determinado atributo."
      ],
      "metadata": {
        "id": "G9yJcRTnBCWh"
      }
    },
    {
      "cell_type": "code",
      "source": [
        "lista_vazia = []\n",
        "print(lista_vazia)"
      ],
      "metadata": {
        "id": "RGLgLjtL4Gpv",
        "colab": {
          "base_uri": "https://localhost:8080/"
        },
        "outputId": "5a9499ed-f1f8-4260-c3a6-f9686dfcd77d"
      },
      "execution_count": null,
      "outputs": [
        {
          "output_type": "stream",
          "name": "stdout",
          "text": [
            "[]\n"
          ]
        }
      ]
    },
    {
      "cell_type": "code",
      "source": [
        "noivo = ['Zé', 'Mané', 'Ana', 'Fran', 'João', 'Franz']\n",
        "print(f'Convidados do noivo  - {noivo}')"
      ],
      "metadata": {
        "id": "5LVfx_nJCLRT",
        "colab": {
          "base_uri": "https://localhost:8080/"
        },
        "outputId": "b3b486b0-9ced-47a6-92ef-6ea8fcf5ee21"
      },
      "execution_count": null,
      "outputs": [
        {
          "output_type": "stream",
          "name": "stdout",
          "text": [
            "Convidados do noivo  - ['Zé', 'Mané', 'Ana', 'Fran', 'João', 'Franz']\n"
          ]
        }
      ]
    },
    {
      "cell_type": "code",
      "source": [
        "idades = [41, 47, 46, 28, 17, 50]\n",
        "print(f'Idades dos convidados do noivo - {idades}')"
      ],
      "metadata": {
        "id": "ClV9VI4UDI15",
        "colab": {
          "base_uri": "https://localhost:8080/"
        },
        "outputId": "19f9e131-8303-46bb-8e36-5430a4c900f0"
      },
      "execution_count": null,
      "outputs": [
        {
          "output_type": "stream",
          "name": "stdout",
          "text": [
            "Idades dos convidados do noivo - [41, 47, 46, 28, 17, 50]\n"
          ]
        }
      ]
    },
    {
      "cell_type": "code",
      "source": [
        "massas = [86, 74, 52, 47, 90, 110]\n",
        "print(f'Massas dos convidados do noivo - {massas}')"
      ],
      "metadata": {
        "id": "18slIS5RETAm",
        "colab": {
          "base_uri": "https://localhost:8080/"
        },
        "outputId": "abb5bfde-1795-462e-b6ad-36cdbdce92f6"
      },
      "execution_count": null,
      "outputs": [
        {
          "output_type": "stream",
          "name": "stdout",
          "text": [
            "Massas dos convidados do noivo - [86, 74, 52, 47, 90, 110]\n"
          ]
        }
      ]
    },
    {
      "cell_type": "code",
      "source": [
        "alturas = [1.68, 1.74, 1.65, 1.65, 1.80, 1.97]\n",
        "print(f'Alturas dos convidados do noivo - {alturas}')"
      ],
      "metadata": {
        "id": "7SzDqktdFLwb",
        "colab": {
          "base_uri": "https://localhost:8080/"
        },
        "outputId": "8628cbcd-77c5-45e9-bc73-9084f1f079e2"
      },
      "execution_count": null,
      "outputs": [
        {
          "output_type": "stream",
          "name": "stdout",
          "text": [
            "Alturas dos convidados do noivo - [1.68, 1.74, 1.65, 1.65, 1.8, 1.97]\n"
          ]
        }
      ]
    },
    {
      "cell_type": "markdown",
      "source": [
        "* Acessando um elemento específico da lista a partir do seu índice"
      ],
      "metadata": {
        "id": "iipUFTvynKTl"
      }
    },
    {
      "cell_type": "code",
      "source": [
        "print(f'A convidade de honta é {noivo[3]}')"
      ],
      "metadata": {
        "id": "RLUQPLRsFWeB",
        "colab": {
          "base_uri": "https://localhost:8080/"
        },
        "outputId": "1701d088-9285-418e-f17a-04c112154c69"
      },
      "execution_count": null,
      "outputs": [
        {
          "output_type": "stream",
          "name": "stdout",
          "text": [
            "A convidade de honta é Fran\n"
          ]
        }
      ]
    },
    {
      "cell_type": "markdown",
      "source": [
        "* Criando uma sublista com apenas os três primeiros elementos da lista"
      ],
      "metadata": {
        "id": "RjfEFwt_nPY0"
      }
    },
    {
      "cell_type": "code",
      "source": [
        "sublista = noivo[:3]\n",
        "print(sublista)"
      ],
      "metadata": {
        "id": "TjV00OyqF0vJ",
        "colab": {
          "base_uri": "https://localhost:8080/"
        },
        "outputId": "313a426c-c878-46f9-e59f-54daeb380d23"
      },
      "execution_count": null,
      "outputs": [
        {
          "output_type": "stream",
          "name": "stdout",
          "text": [
            "['Zé', 'Mané', 'Ana']\n"
          ]
        }
      ]
    },
    {
      "cell_type": "markdown",
      "source": [
        "* Acessando o primeiro e o último elemento da lista"
      ],
      "metadata": {
        "id": "B8T58pannTPN"
      }
    },
    {
      "cell_type": "code",
      "source": [
        "p_u = [noivo[0], noivo[-1]]\n",
        "print(p_u)"
      ],
      "metadata": {
        "id": "oHIkkGjEJlxk",
        "colab": {
          "base_uri": "https://localhost:8080/"
        },
        "outputId": "574c8742-ad4d-458b-f476-f6dca5528776"
      },
      "execution_count": null,
      "outputs": [
        {
          "output_type": "stream",
          "name": "stdout",
          "text": [
            "['Zé', 'Franz']\n"
          ]
        }
      ]
    },
    {
      "cell_type": "markdown",
      "source": [
        "* Método index (valor procurado, índice de início da procura, e índice fim da procura) por definição se não for oferecido o índice  de ínicio e fim será procurado na lista toda"
      ],
      "metadata": {
        "id": "YrKHq-vbnY0x"
      }
    },
    {
      "cell_type": "code",
      "source": [
        "id = noivo.index('Fran')"
      ],
      "metadata": {
        "id": "1l4_N3FzTHXY"
      },
      "execution_count": null,
      "outputs": []
    },
    {
      "cell_type": "code",
      "source": [
        "# Qual é o imc da convidada Fran\n",
        "print(f'O IMC da Fran é {(massas[id]/alturas[id]**2):.2f}')"
      ],
      "metadata": {
        "colab": {
          "base_uri": "https://localhost:8080/"
        },
        "id": "fQ1IGqkCV7fc",
        "outputId": "c48d32df-4ca0-4783-8717-3d98d32f7908"
      },
      "execution_count": null,
      "outputs": [
        {
          "output_type": "stream",
          "name": "stdout",
          "text": [
            "O IMC da Fran é 17.26\n"
          ]
        }
      ]
    },
    {
      "cell_type": "markdown",
      "source": [
        "**Desafio 1:**\n",
        "\n",
        "* Crie um programa que receba do usuário um nome e caso esse nome esteja na lista guarde seu índice em uma variável e a utilize para buscar massa e altura correspondente, bem como calcular seu imc e após tudo isso informar o usuário, caso o nome não esteja na lista retorne uma mensagem informando o usuário"
      ],
      "metadata": {
        "id": "fXsHrA9Mb9tq"
      }
    },
    {
      "cell_type": "code",
      "source": [
        "nome = str(input('Informe o nome que deseja consultar: '))\n",
        "nome = nome.capitalize()\n",
        "\n",
        "if nome in noivo:\n",
        "    id2 = noivo.index(nome)\n",
        "    imc = massas[id2]/alturas[id2]**2\n",
        "    print(f'O peso do(a) convidado(a) {nome} é {massas[id2]} kg, a sua altura é {alturas[id2]} m e seu imc é {imc:.1f}.')\n",
        "\n",
        "else:\n",
        "    print(f'{nome} não consta na lista de convidados.')\n"
      ],
      "metadata": {
        "id": "vynBO4F4Xk7v"
      },
      "execution_count": null,
      "outputs": []
    },
    {
      "cell_type": "markdown",
      "source": [
        "* .append() - Adiciona elementos em uma lista qualquer com o método, por padrão este método insere o valor desejado em uma lista existente na última posição"
      ],
      "metadata": {
        "id": "s8Mt2ILin6gd"
      }
    },
    {
      "cell_type": "code",
      "source": [
        "lista_vazia = [] # cria uma lista vazia com o nome lista vazia e apaga todos os elementos de qualquer objeto com o mesmo nome\n",
        "print(lista_vazia) # imprime uma lista vazia que já existe\n",
        "lista_vazia.append('Joana') # adiciona Joana na última posição de uma lista que já exista\n",
        "lista_vazia.append('Douglas')\n",
        "lista_vazia.append('Eduardo')\n",
        "lista_vazia.append('Ester')\n",
        "lista_vazia.append('Daniela')\n",
        "lista_vazia.append('Pedro')\n",
        "lista_vazia.append('Maria')\n",
        "print(lista_vazia) # imprime o status atual da lista vazia\n",
        "\n",
        "fam = lista_vazia\n",
        "print(lista_vazia)\n",
        "print(fam)"
      ],
      "metadata": {
        "colab": {
          "base_uri": "https://localhost:8080/"
        },
        "id": "m-TOy1XglwJl",
        "outputId": "c57c7551-58ea-4d81-9ad4-fa2065e6f347"
      },
      "execution_count": null,
      "outputs": [
        {
          "output_type": "stream",
          "name": "stdout",
          "text": [
            "[]\n",
            "['Joana', 'Douglas', 'Eduardo', 'Ester', 'Daniela', 'Pedro', 'Maria']\n",
            "['Joana', 'Douglas', 'Eduardo', 'Ester', 'Daniela', 'Pedro', 'Maria']\n",
            "['Joana', 'Douglas', 'Eduardo', 'Ester', 'Daniela', 'Pedro', 'Maria']\n"
          ]
        }
      ]
    },
    {
      "cell_type": "markdown",
      "source": [
        "* Adicionando elemento no meio da lista sem substituir o nome que está na posição"
      ],
      "metadata": {
        "id": "fK5c3ed5oXVx"
      }
    },
    {
      "cell_type": "code",
      "source": [
        "# Exemplo:\n",
        "\n",
        "fam.insert(3,'Tobias')\n",
        "print(fam)"
      ],
      "metadata": {
        "colab": {
          "base_uri": "https://localhost:8080/"
        },
        "id": "NJivm-u6rK2K",
        "outputId": "0fc739c8-2c14-4741-d666-1c2fbc1536e0"
      },
      "execution_count": null,
      "outputs": [
        {
          "output_type": "stream",
          "name": "stdout",
          "text": [
            "['Joana', 'Douglas', 'Eduardo', 'Tobias', 'Ester', 'Daniela', 'Pedro', 'Maria']\n"
          ]
        }
      ]
    },
    {
      "cell_type": "markdown",
      "source": [
        "* Atribuição direta insere um novo elemento substituindo o anterior se houver"
      ],
      "metadata": {
        "id": "7PFPuSBrobQm"
      }
    },
    {
      "cell_type": "code",
      "source": [
        "# Exemplo:\n",
        "\n",
        "fam[3] = 'Raimundo'\n",
        "print(fam)"
      ],
      "metadata": {
        "colab": {
          "base_uri": "https://localhost:8080/"
        },
        "id": "bLCZVCnmr1SJ",
        "outputId": "08ba1a31-2aa5-4959-c91d-1460c21a814c"
      },
      "execution_count": null,
      "outputs": [
        {
          "output_type": "stream",
          "name": "stdout",
          "text": [
            "['Joana', 'Douglas', 'Eduardo', 'Raimundo', 'Ester', 'Daniela', 'Pedro', 'Maria']\n"
          ]
        }
      ]
    },
    {
      "cell_type": "markdown",
      "source": [
        "* pop() - Exclui elementos de uma lista pelo índice, por padrão exclui o último elemento.\n",
        "\n",
        "* Obs: quando sei o nome que quero excluir uso o Remove, quando não sei, sei apenas o índice uso o pop."
      ],
      "metadata": {
        "id": "VE3WHDvxomxq"
      }
    },
    {
      "cell_type": "code",
      "source": [
        "# Exemplo:\n",
        "\n",
        "fam.pop()\n",
        "print(fam)"
      ],
      "metadata": {
        "id": "fWhQ0K5Bs7NN"
      },
      "execution_count": null,
      "outputs": []
    },
    {
      "cell_type": "code",
      "source": [
        "# Excluindo raimundo da lista fam pelo método remove\n",
        "\n",
        "fam.remove('Raimundo')\n",
        "print(fam)"
      ],
      "metadata": {
        "id": "wnFOjKJtpU_5"
      },
      "execution_count": null,
      "outputs": []
    },
    {
      "cell_type": "markdown",
      "source": [
        "* Especificando o dado que quero excluir"
      ],
      "metadata": {
        "id": "E1UY7BeTpAV1"
      }
    },
    {
      "cell_type": "code",
      "source": [
        "# Exemplo:\n",
        "\n",
        "fam.pop(0)\n",
        "print(fam)"
      ],
      "metadata": {
        "colab": {
          "base_uri": "https://localhost:8080/"
        },
        "id": "8Hviz3zWtnlS",
        "outputId": "d07b76ac-a0d2-44a3-f086-37ea0021740d"
      },
      "execution_count": null,
      "outputs": [
        {
          "output_type": "stream",
          "name": "stdout",
          "text": [
            "['Douglas', 'Eduardo', 'Raimundo', 'Ester', 'Daniela', 'Pedro']\n"
          ]
        }
      ]
    },
    {
      "cell_type": "markdown",
      "source": [
        "* criando uma lista com strings"
      ],
      "metadata": {
        "id": "YtReAorRqKh-"
      }
    },
    {
      "cell_type": "code",
      "source": [
        "nomes = ['Douglas', 'Daniela', 'Pedro', 'Maria', 'Eduardo', 'Ester']\n"
      ],
      "metadata": {
        "id": "5EUmNQn4Adng"
      },
      "execution_count": null,
      "outputs": []
    },
    {
      "cell_type": "markdown",
      "source": [
        "* criando uma lista com números inteiros"
      ],
      "metadata": {
        "id": "3c9kfOkgqSq2"
      }
    },
    {
      "cell_type": "code",
      "source": [
        "pesos = [78, 25, 98, 63, 92, 67]"
      ],
      "metadata": {
        "id": "NwNC29uPqViK"
      },
      "execution_count": null,
      "outputs": []
    },
    {
      "cell_type": "markdown",
      "source": [
        "* criando uma lista com números fracionários"
      ],
      "metadata": {
        "id": "0UJwNSw4qY-D"
      }
    },
    {
      "cell_type": "code",
      "source": [
        "alturas = [1.85, 1.29, 1.75, 1.67, 1.82, 1.70]"
      ],
      "metadata": {
        "id": "oVl8Cyzbqb22"
      },
      "execution_count": null,
      "outputs": []
    },
    {
      "cell_type": "markdown",
      "source": [
        "* forçando um erro usando o remove"
      ],
      "metadata": {
        "id": "tPpwImb1qfK-"
      }
    },
    {
      "cell_type": "code",
      "source": [
        "nomes.remove('xerox')"
      ],
      "metadata": {
        "id": "DKcBEOeNLNNE"
      },
      "execution_count": null,
      "outputs": []
    },
    {
      "cell_type": "markdown",
      "source": [
        "* Exemplo:"
      ],
      "metadata": {
        "id": "DAJQovCfqnwK"
      }
    },
    {
      "cell_type": "code",
      "source": [
        "# solução 1\n",
        "teste = input('Informe o nome que deseja excluir da lista: ') # recebe um nome do usuário e o guarda na variável teste\n",
        "teste = teste.capitalize() # Padroniza a variável teste com a primeira letra maiúscula\n",
        "if teste in nomes: # verifica se o nome armazenado em teste está na lista de nomes\n",
        "  nomes.remove(teste) # se somente se o nome armazenado em teste estiver na lista, faz a exclusão\n",
        "  print(f'O nome {teste} foi exluído com sucesso') # imprime o resultado da exclusão se somente se ela for feita\n",
        "else:\n",
        "  print(f'O nome {teste} não está na lista, logo não pode ser excluído') # Caso o nome digitado não esteja na lista informa o usuário essa situação"
      ],
      "metadata": {
        "id": "2X_piC92LQRs"
      },
      "execution_count": null,
      "outputs": []
    },
    {
      "cell_type": "code",
      "source": [
        "# solução 2 (utlizando try/except)\n",
        "teste2 = input('Informe o nome que deseja excluir da lista: ') # recebe um nome do usuário e o guarda na variável teste\n",
        "teste2 = teste2.capitalize()# Padroniza a variável teste com a primeira letra maiúscula\n",
        "try: # comando para tentar fazer alguma ação\n",
        "  nomes.remove(teste2) # ação que será feita caso a tentativa seja bem sucedida (neste caso se o nome digitado estiver na lista)\n",
        "  print(f'O nome {teste2} foi excluído com sucesso') # imprime o resultado da exclusão se somente se ela for feita\n",
        "except: # comando para o caso da tentativa (try) ser mal sucedida (no caso se o nome não estiver na lista)\n",
        "  print(f'O nome {teste2} não está na lista, logo não pode ser excluído') # Caso o nome digitado não esteja na lista informa o usuário essa situação\n",
        "\n",
        "# if tal coisa, try isso, except ...., else:\n",
        "# if else eu consigo especificar qual erro quero tratar, try except eu tou tratando qualquer coisa que fuja da regra que estipulei"
      ],
      "metadata": {
        "id": "-C-fZHEeLR-k"
      },
      "execution_count": null,
      "outputs": []
    },
    {
      "cell_type": "markdown",
      "source": [
        "* len() - Tamanho da lista"
      ],
      "metadata": {
        "id": "IFGO8Llcq0Va"
      }
    },
    {
      "cell_type": "code",
      "source": [
        "print(len(nomes))"
      ],
      "metadata": {
        "id": "H9pcZeTrrDyF"
      },
      "execution_count": null,
      "outputs": []
    },
    {
      "cell_type": "markdown",
      "source": [
        "* max() - Maior valor da lista"
      ],
      "metadata": {
        "id": "4120tb49rF9s"
      }
    },
    {
      "cell_type": "code",
      "source": [
        "print(max(pesos))"
      ],
      "metadata": {
        "id": "ES8WcBdirNuO"
      },
      "execution_count": null,
      "outputs": []
    },
    {
      "cell_type": "markdown",
      "source": [
        "* min() - Menor valor da lista"
      ],
      "metadata": {
        "id": "ZvEaBw0vrQHF"
      }
    },
    {
      "cell_type": "code",
      "source": [
        "print(min(alturas))"
      ],
      "metadata": {
        "id": "PMPkQ-SirTwk"
      },
      "execution_count": null,
      "outputs": []
    },
    {
      "cell_type": "markdown",
      "source": [
        "* sum() - Soma dos valores de uma lista"
      ],
      "metadata": {
        "id": "vXuzzuIfrWvh"
      }
    },
    {
      "cell_type": "code",
      "source": [
        "print(sum(alturas))"
      ],
      "metadata": {
        "id": "kDWsgtXVra0D"
      },
      "execution_count": null,
      "outputs": []
    },
    {
      "cell_type": "markdown",
      "source": [
        "* count() - Frequência de um valor em uma lista"
      ],
      "metadata": {
        "id": "QKVTQC6IrecY"
      }
    },
    {
      "cell_type": "code",
      "source": [
        "print(nomes.count('Douglas'))"
      ],
      "metadata": {
        "id": "8a8i2Epsrhq7"
      },
      "execution_count": null,
      "outputs": []
    },
    {
      "cell_type": "markdown",
      "source": [
        "* .sort() - Ordenar uma lista em ordem crescente"
      ],
      "metadata": {
        "id": "EE9eCDXUrkPT"
      }
    },
    {
      "cell_type": "code",
      "source": [
        "nomes.sort()\n",
        "print(nomes)"
      ],
      "metadata": {
        "id": "f7hKXi-FrvVi"
      },
      "execution_count": null,
      "outputs": []
    },
    {
      "cell_type": "markdown",
      "source": [
        "* .sort(reverse=True) - Ordenar uma lista em ordem decrescente"
      ],
      "metadata": {
        "id": "cyruptR2ryRT"
      }
    },
    {
      "cell_type": "code",
      "source": [
        "nomes.sort(reverse=True)\n",
        "print(nomes)"
      ],
      "metadata": {
        "id": "vcXNmhJzr6EV"
      },
      "execution_count": null,
      "outputs": []
    },
    {
      "cell_type": "markdown",
      "source": [
        "* .extend() - Adiciona todos os elementos de uma lista em outra"
      ],
      "metadata": {
        "id": "yumexCwir_0K"
      }
    },
    {
      "cell_type": "code",
      "source": [
        "# Exemplo:\n",
        "\n",
        "nomes1 = ['Zé', 'Mané']\n",
        "nomes2 = ['Ana', 'José']\n",
        "\n",
        "nomes1.extend(nomes2)\n",
        "\n",
        "print(nomes1)\n",
        "\n",
        "# Melhor para alteração no banco de dados"
      ],
      "metadata": {
        "id": "SMtmPBfjsHB9"
      },
      "execution_count": null,
      "outputs": []
    },
    {
      "cell_type": "markdown",
      "source": [
        "* (+) - Adicionando todos os elementos de uma lista em outra usando sinal de (+) (concatenando listas)"
      ],
      "metadata": {
        "id": "ZxDTkrF1soaw"
      }
    },
    {
      "cell_type": "code",
      "source": [
        "# Exemplo:\n",
        "\n",
        "nomes1 = ['Zé', 'Mané']\n",
        "nomes2 = ['Ana', 'José']\n",
        "teste = nomes1 + nomes2\n",
        "print(teste)\n",
        "\n",
        "# Melhor para filtro"
      ],
      "metadata": {
        "id": "c8_aWqJ-LY6h"
      },
      "execution_count": null,
      "outputs": []
    },
    {
      "cell_type": "markdown",
      "source": [
        "* .append() - Colocando uma lista dentro de outra"
      ],
      "metadata": {
        "id": "tLiww3wts3k-"
      }
    },
    {
      "cell_type": "code",
      "source": [
        "# Exemplo:\n",
        "\n",
        "carros = ['Fusca', 'Gol']\n",
        "carros2 = ['Uno', 'Punto', 'Bravo']\n",
        "carros.append(carros2)\n",
        "print(carros)"
      ],
      "metadata": {
        "id": "66GulLQLs_JJ"
      },
      "execution_count": null,
      "outputs": []
    },
    {
      "cell_type": "markdown",
      "source": [
        "* Tirando uma lista da outra"
      ],
      "metadata": {
        "id": "pRMupc0ptJVA"
      }
    },
    {
      "cell_type": "code",
      "source": [
        "# Exemplo:\n",
        "\n",
        "fiat = carros[2]\n",
        "print(fiat)"
      ],
      "metadata": {
        "id": "mPWWPDOCLb_k"
      },
      "execution_count": null,
      "outputs": []
    },
    {
      "cell_type": "markdown",
      "source": [
        "* Tirando um item de uma lista que está dentro de outra"
      ],
      "metadata": {
        "id": "wkkGM7KdtPPf"
      }
    },
    {
      "cell_type": "code",
      "source": [
        "# Exemplo:\n",
        "\n",
        "ok = carros[2][0]\n",
        "print(f'O melhor carro de todos os tempos é {ok}')"
      ],
      "metadata": {
        "id": "0uzrzh1qLeHw"
      },
      "execution_count": null,
      "outputs": []
    },
    {
      "cell_type": "markdown",
      "source": [
        "#### **Função Range**"
      ],
      "metadata": {
        "id": "a7ZX38e2LlUS"
      }
    },
    {
      "cell_type": "markdown",
      "source": [
        "* Função range com um argumento cria um lista com n valores inteiros de 0 a a n-1\n",
        "\n",
        "* Também é usado também para contagem"
      ],
      "metadata": {
        "id": "wdpAXKaGtT1y"
      }
    },
    {
      "cell_type": "code",
      "source": [
        "# Exemplo:\n",
        "\n",
        "lista1 = list(range(5))\n",
        "print(lista1)"
      ],
      "metadata": {
        "id": "qci8HUGPtYsi"
      },
      "execution_count": null,
      "outputs": []
    },
    {
      "cell_type": "markdown",
      "source": [
        "*  Função range com dois argumentos cria um lista com n valores inteiros do início informado no primeiro argumento até  ((n-1) - primeiro argumento informado) informado no segundo argumento"
      ],
      "metadata": {
        "id": "fezb1LJztaa0"
      }
    },
    {
      "cell_type": "code",
      "source": [
        "# Exemplo:\n",
        "\n",
        "lista2 = list(range(1,5))\n",
        "print(lista2)"
      ],
      "metadata": {
        "id": "Uoj6nzorui8t"
      },
      "execution_count": null,
      "outputs": []
    },
    {
      "cell_type": "markdown",
      "source": [
        "* Função range com três argumentos cria um lista com definição de onde começar (primeiro argumento), onde parar (segundo argumento) e de qual tamando de intervalo entre os valores (terceiro argumento)"
      ],
      "metadata": {
        "id": "ipAVcJtLunal"
      }
    },
    {
      "cell_type": "code",
      "source": [
        "# Exemplo:\n",
        "\n",
        "lista3 = list(range(1,5,2))\n",
        "print(lista3)"
      ],
      "metadata": {
        "id": "-Bmu_aTXuq5_"
      },
      "execution_count": null,
      "outputs": []
    },
    {
      "cell_type": "markdown",
      "source": [
        "## **Estruturas de repetição (For)**"
      ],
      "metadata": {
        "id": "7KzdUkpsL5cg"
      }
    },
    {
      "cell_type": "markdown",
      "source": [
        "* Apresentando e utilizando o for de forma simples"
      ],
      "metadata": {
        "id": "t7ItsnLuvJfY"
      }
    },
    {
      "cell_type": "code",
      "source": [
        "# Exemplo:\n",
        "\n",
        "pesos = [78, 25, 98, 63, 92, 67]\n",
        "for i in pesos:\n",
        "  print(i)"
      ],
      "metadata": {
        "id": "25kWFP-jL80T"
      },
      "execution_count": null,
      "outputs": []
    },
    {
      "cell_type": "markdown",
      "source": [
        "* Utilizando o for com else"
      ],
      "metadata": {
        "id": "ldKSXHxOvOuN"
      }
    },
    {
      "cell_type": "code",
      "source": [
        "# Exemplo:\n",
        "\n",
        "for i in pesos:\n",
        "    print(i)\n",
        "else:\n",
        "    print('Todos os items foram exibidos com sucesso')"
      ],
      "metadata": {
        "id": "ibnjbXY2L-1-"
      },
      "execution_count": null,
      "outputs": []
    },
    {
      "cell_type": "markdown",
      "source": [
        "* Utilizando o for com range"
      ],
      "metadata": {
        "id": "5prjkB0ivWvZ"
      }
    },
    {
      "cell_type": "code",
      "source": [
        "# Exemplo:\n",
        "\n",
        "alturas_quad = []\n",
        "imc = []\n",
        "for i in range(len(pesos)):\n",
        "  print(i)\n",
        "  alturas_quad.append(alturas[i]**2)\n",
        "  imc.append(pesos[i]/alturas_quad[i])\n",
        "print(f'IMC {imc}')"
      ],
      "metadata": {
        "id": "vDI_EhlEMAer"
      },
      "execution_count": null,
      "outputs": []
    },
    {
      "cell_type": "markdown",
      "source": [
        "* Utilizando o for com enumerate"
      ],
      "metadata": {
        "id": "cq3KqEC8vZeJ"
      }
    },
    {
      "cell_type": "code",
      "source": [
        "# Exemplo:\n",
        "\n",
        "alturas_quad = []\n",
        "imc = []\n",
        "for i, v in enumerate(pesos):\n",
        "  print(i)\n",
        "  print(v)\n",
        "  alturas_quad.append(alturas[i]**2)\n",
        "  imc.append(pesos[i]/alturas_quad[i])\n",
        "print(f'IMC {imc}')"
      ],
      "metadata": {
        "id": "JfB0J1c1MDSX"
      },
      "execution_count": null,
      "outputs": []
    },
    {
      "cell_type": "markdown",
      "source": [
        "## **Loop While**"
      ],
      "metadata": {
        "id": "A9Rfq5Oic9PH"
      }
    },
    {
      "cell_type": "markdown",
      "source": [
        "* O while é uma sentença que declara uma condição que enquanto for verdadeira executa repetidamente um bloco de códigos linha\n",
        "por linha na ordem especificada."
      ],
      "metadata": {
        "id": "TWqAJSnfdCs-"
      }
    },
    {
      "cell_type": "code",
      "source": [
        "# Exemplo1:\n",
        "\n",
        "c = 0\n",
        "n = int(input('Informe quantas vezes seja ver a emnsagem \"Hello World: '))\n",
        "\n",
        "while c < n: # Enquanto c for menor que n faça...\n",
        "    print('Hello World')\n",
        "    c += 1 # Incrementa 1 no c até que o valor de c atinja o valor que o usuário digitou no input."
      ],
      "metadata": {
        "id": "HOmck8KjdJes"
      },
      "execution_count": null,
      "outputs": []
    },
    {
      "cell_type": "code",
      "source": [
        "# Exemplo2:\n",
        "\n",
        "''' Faça um script que receba do usuário cinco número inteiros, armazene\n",
        "os números recebidos em uma lista e no final exiba a soma desses valores'''\n",
        "\n",
        "n1 = int(input('Informe o 1º número inteiro: '))\n",
        "n2 = int(input('Informe o 2º número inteiro: '))\n",
        "n3 = int(input('Informe o 3º número inteiro: '))\n",
        "n4 = int(input('Informe o 4º número inteiro: '))\n",
        "n5 = int(input('Informe o 5º número inteiro: '))\n",
        "numeros = [n1, n2, n3, n4, n5]\n",
        "print(f'A soma dos números digitados é: {sum(numeros)} ')"
      ],
      "metadata": {
        "id": "kFLUImIpdKfh"
      },
      "execution_count": null,
      "outputs": []
    },
    {
      "cell_type": "code",
      "source": [
        "# Exemplo3:\n",
        "\n",
        "''' Faça um script que receba do usuário cinco números inteiros, armazene os\n",
        "números recebidos a cada momento em que forem recebidos em uma lista e\n",
        "no final exiba a soma desses valores '''\n",
        "\n",
        "numeros = []\n",
        "n1 = int(input('Informe o 1º número inteiro: '))\n",
        "numeros.append(n1)\n",
        "n2 = int(input('Informe o 2º número inteiro: '))\n",
        "numeros.append(n2)\n",
        "n3 = int(input('Informe o 3º número inteiro: '))\n",
        "numeros.append(n3)\n",
        "n4 = int(input('Informe o 4º número inteiro: '))\n",
        "numeros.append(n4)\n",
        "n5 = int(input('Informe o 5º número inteiro: '))\n",
        "numeros.append(n5)\n",
        "\n",
        "print(f'A soma dos números digitados é: {sum(numeros)} ')"
      ],
      "metadata": {
        "id": "U5vDyR4qdNft"
      },
      "execution_count": null,
      "outputs": []
    },
    {
      "cell_type": "code",
      "source": [
        "# Exemplo4:\n",
        "\n",
        "''' Faça um script que receba do usuário n números inteiros, armazene os\n",
        "números recebidos a cada momento em que forem recebidos em uma lista e\n",
        "no final exiba a soma desses valores. Considere que o usuário deverá informar\n",
        "apenas 1 numero inteiro por caixa de diálogo é permitido usar (While) '''\n",
        "\n",
        "c = 0\n",
        "n = int(input('Você quer construir uma lista com quantos núemeros inteiros? '))\n",
        "numeros = []\n",
        "\n",
        "while c < n:\n",
        "    numeros.append(int(input(f'Informe o {c+1}º número inteiro da lista: ')))\n",
        "    c += 1\n",
        "print(f'A soma dos valores digitados é {sum(numeros)}')\n",
        "\n",
        "# uma outra forma de usar o append\n",
        "\n",
        "c = 0 # criei um contador para utilizar como parada do laço while\n",
        "n = int(input('Informe a qtde de números inteiros que deseja na lista: '))\n",
        "numeros = []\n",
        "while c < n:\n",
        "  i = int(input(f'Informe o {c+1}º número inteiro da lista: '))\n",
        "  numeros.append(i)\n",
        "  c += 1\n",
        "print(f'A soma dos valores digitados é {sum(numeros)}')"
      ],
      "metadata": {
        "id": "UIQQPTjNdPdt"
      },
      "execution_count": null,
      "outputs": []
    },
    {
      "cell_type": "markdown",
      "source": [
        "Podemos usar ferramentas como: while true, try e o except para impredir que o código crash quando o usuário digitar um dados fora do solicitado. Exemplo:"
      ],
      "metadata": {
        "id": "91wgYriGdRrV"
      }
    },
    {
      "cell_type": "code",
      "source": [
        "'''\n",
        "Faça um script que receba do usuário n números inteiros, armazene os\n",
        "números recebidos a cada momento em que forem recebidos em uma lista e\n",
        "no final exiba a soma desses valores. Considere que o usuário deverá informar\n",
        "apenas 1 numero inteiro por caixa de diálogo é permitido usar (While)\n",
        "'''\n",
        "c = 0 # criei um contador para utilizar como parada do laço while\n",
        "while True:\n",
        "  try:\n",
        "    n = int(input('Informe a qtde de números inteiros que deseja na lista: '))\n",
        "    break\n",
        "  except:\n",
        "    pass\n",
        "  print(f'''Cuidado! você não digitou um número inteiro, por favor faça isso''')\n",
        "numeros = []\n",
        "while c < n:\n",
        "  try:\n",
        "    i = int(input(f'Informe o {c+1}º número inteiro da lista: '))\n",
        "    numeros.append(i)\n",
        "    c += 1\n",
        "  except:\n",
        "    pass\n",
        "    print(f'''Cuidado! você não digitou um número inteiro, por favor,\n",
        "    digite o {c+1}º número nvamente''')\n",
        "print(f'A soma dos valores digitados é {sum(numeros)}')"
      ],
      "metadata": {
        "id": "ln5fFR9MdVGS"
      },
      "execution_count": null,
      "outputs": []
    },
    {
      "cell_type": "code",
      "source": [
        "# Exemplo5:\n",
        "\n",
        "''' Faça um programa que receba do usuário números inteiros e os insira na lista\n",
        "somente se o número for ímpar e encerre o programa quando a lista tiver 5\n",
        "números ímpares '''\n",
        "\n",
        "numeros = []\n",
        "\n",
        "while len(numeros) < 5:\n",
        "    n = int(input('Informe um número interio: '))\n",
        "    if n % 2 != 0:\n",
        "        numeros.append(n)\n",
        "    else:\n",
        "        pass\n",
        "print(numeros)"
      ],
      "metadata": {
        "id": "tF476LhYdXbl"
      },
      "execution_count": null,
      "outputs": []
    },
    {
      "cell_type": "markdown",
      "source": [
        "## **Funções**"
      ],
      "metadata": {
        "id": "Pb_DuoZRdZ0R"
      }
    },
    {
      "cell_type": "code",
      "source": [
        "'''\n",
        "def nomedafuncao (argumentos1, argumento2,..., argumento n) - def DEFinindo função\n",
        "    bloco de código ou bloco de instruções\n",
        "    return \"valor\" - mostra o que ela vai fazer quando for chamada\n",
        "'''"
      ],
      "metadata": {
        "id": "ETyAkDnvdeDm"
      },
      "execution_count": null,
      "outputs": []
    },
    {
      "cell_type": "code",
      "source": [
        " Exemplo de função sem argumento e sem bloco de código\n",
        "\n",
        "def teste():\n",
        "    return print('Bom dia!')"
      ],
      "metadata": {
        "id": "hVwstbcmde2z"
      },
      "execution_count": null,
      "outputs": []
    },
    {
      "cell_type": "code",
      "source": [
        "# Chamando a função teste criada no bloco anterior\n",
        "\n",
        "teste()"
      ],
      "metadata": {
        "id": "qEJCx35hdgwZ"
      },
      "execution_count": null,
      "outputs": []
    },
    {
      "cell_type": "code",
      "source": [
        "# Exemplo de função com argumento e com bloco de código\n",
        "# Crie uma função que receba dois argumentos (x, y) e faça o cálculo de x ** y\n",
        "\n",
        "def casamento (x, y):\n",
        "    vezes = x ** y\n",
        "    return print(f'O professor Douglas casará {vezes} vezes nessa vida.')"
      ],
      "metadata": {
        "id": "HxQqgIXCdiL9"
      },
      "execution_count": null,
      "outputs": []
    },
    {
      "cell_type": "code",
      "source": [
        "# Chamando a função utilizando a ordem padrão dos argumentos\n",
        "\n",
        "casamento(2, 3)"
      ],
      "metadata": {
        "id": "QvsOslvYdlkJ"
      },
      "execution_count": null,
      "outputs": []
    },
    {
      "cell_type": "code",
      "source": [
        "# Chamando a função invertendo a ordem dos argumentos sem aviso prévio (vai mudar o resultado anterior)\n",
        "\n",
        "casamento(3, 2)"
      ],
      "metadata": {
        "id": "CsvdzAyOdnQ7"
      },
      "execution_count": null,
      "outputs": []
    },
    {
      "cell_type": "code",
      "source": [
        "# Para inverter a ordem padrão dos argumentos é necessário explicitar os valores dos argumentos\n",
        "\n",
        "casamento (y = 3, x = 2)"
      ],
      "metadata": {
        "id": "nz804Jvzdo8x"
      },
      "execution_count": null,
      "outputs": []
    },
    {
      "cell_type": "code",
      "source": [
        "# Também é possível ser redundante e respeitar a ordem padrão dos argumnetos e explicitar os seus valores\n",
        "\n",
        "casamento (x = 2, y = 3)"
      ],
      "metadata": {
        "id": "TLqjoSq9dq1B"
      },
      "execution_count": null,
      "outputs": []
    },
    {
      "cell_type": "code",
      "source": [
        "'''\n",
        "Elabore uma função que receba do usuário os valores de preço de venda (p),\n",
        "custo variável (cv), custo fixo (cf) e calcule o valor do ponto de equilíbiro\n",
        "em quantidade e informe o usuário.\n",
        "'''\n",
        "\n",
        "def peq ():\n",
        "    p = float(input('Informe o valor do preço unitário de venda em R$: '))\n",
        "    cv = float(input('Informe o valor do custo variável unitário de venda em R$: '))\n",
        "    cf = float(input('Informe o valor do custo fixo mensal de venda em R$: '))\n",
        "    qt = cf / (p - cv)\n",
        "    return print(f'A partir de {qt:.0f} unidades você terá lucro')"
      ],
      "metadata": {
        "id": "X2M_obHBdseY"
      },
      "execution_count": null,
      "outputs": []
    },
    {
      "cell_type": "code",
      "source": [
        "peq()"
      ],
      "metadata": {
        "id": "Dn_eE-WSdtHF"
      },
      "execution_count": null,
      "outputs": []
    },
    {
      "cell_type": "markdown",
      "source": [
        "### **Exercícios - Funções**"
      ],
      "metadata": {
        "id": "lCJF-GEqdwWR"
      }
    },
    {
      "cell_type": "code",
      "source": [
        "'''\n",
        "Elabore uma função que receba em cinco inputs diferentes as seguintes informações:\n",
        "- Receita líquida em R$ (rl)\n",
        "- Custo em R$ (c)\n",
        "- Estoques em R$ (e)\n",
        "- Contas a Receber em R$ (cr)\n",
        "- Fornecedores em R$ (f)\n",
        "- Número de dias do balanço - int - (nd)\n",
        "\n",
        "Após receber as informações acima a função deve calcular o valor e printá-lo\n",
        "dos seguintes KPIs:\n",
        "\n",
        "a. Prazo médio de estoques (PME)\n",
        "b. Prazo médio de Recebimento (PMR)\n",
        "c. PRazo médio de Pagamento (PMP)\n",
        "d. Ciclo Operacional (CO)\n",
        "e. Ciclo de Caixa (CC)\n",
        "\n",
        "E por último:\n",
        "\n",
        "- Se o PMP for maior que o ciclo operacional print a mensagem:\n",
        "Essa empresa paga, em média, x dias depois de receber!\n",
        "\n",
        "- Se o PMP for menor que o ciclo operacional print a mensagem:\n",
        "Essa empresa paga, em média, x dias antes de receber!\n",
        "\n",
        "- Se o PMP for igual que o ciclo operacional print a mensagem:\n",
        "Essa empresa paga no mesmo dia em que recebe!\n",
        "'''"
      ],
      "metadata": {
        "id": "hqo8S4l_d_HV"
      },
      "execution_count": null,
      "outputs": []
    },
    {
      "cell_type": "code",
      "source": [
        "def kpi ():\n",
        "\n",
        "    rl = float(input('Informe a receita líquida em R$: '))\n",
        "    c = float(input('Informe o custo em R$: '))\n",
        "    e = float(input('Informe o estoque em R$: '))\n",
        "    cr = float(input('Informe a contas a receber em R$: '))\n",
        "    f = float(input('Informe os fornecedores em R$: '))\n",
        "    nd = int(input('Informe o numero de dias do balanço: '))\n",
        "\n",
        "    pme = (e / c) * nd\n",
        "    pmr = (cr / rl) * nd\n",
        "    pmp = (f / c) * nd\n",
        "    co = pme + pmr\n",
        "    cc = co - pmp\n",
        "\n",
        "    print(f'O Prazo médio de estoques é  aproximadamente {pme:.0f} dias'),\n",
        "    print(f'O Prazo médio de recebimento é  aproximadamente {pmr:.0f} dias'),\n",
        "    print(f'O Prazo médio de pagamento é  aproximadamente {pmp:.0f} dias'),\n",
        "    print(f'O ciclo operacional é  aproximadamente {co:.0f} dias'),\n",
        "    print(f'O Ciclo de caixa é  aproximadamente {cc:.0f} dias')\n",
        "\n",
        "    if pmp > co:\n",
        "        print(f'Essa empresa paga, em média, {abs(cc):.0f} dias depois de receber!')\n",
        "\n",
        "    elif pmp < co:\n",
        "        print(f'Essa empresa paga, em média, {abs(cc):.0f} dias antes de receber!')\n",
        "\n",
        "    else:\n",
        "        print(f'Essa empresa no mesmo dia em que recebe!')\n",
        "\n",
        "# O return só precisa ser usado caso a gente não pessa para imprimir nada."
      ],
      "metadata": {
        "id": "KjKkk1J7d_00"
      },
      "execution_count": null,
      "outputs": []
    },
    {
      "cell_type": "code",
      "source": [
        "kpi()"
      ],
      "metadata": {
        "id": "ds6MtaZreCF9"
      },
      "execution_count": null,
      "outputs": []
    },
    {
      "cell_type": "code",
      "source": [
        "'''\n",
        "Faça uma função sem parâmetro que ao ser acionada solicite ao usuário uma sequência\n",
        "númerica em uma única caixa de texto e separada por espaços e então\n",
        "após o usuário inserir os valores corretos a função devolva um print informando\n",
        "o valor da média, da variância e do desvio padrão da sequência informada\n",
        "'''"
      ],
      "metadata": {
        "id": "DaRgOuEOeEgo"
      },
      "execution_count": null,
      "outputs": []
    },
    {
      "cell_type": "code",
      "source": [
        "def sempar ():\n",
        "\n",
        "    num = (input('Informe uma lista de números separados por espaço: '))\n",
        "\n",
        "    n = num.split()\n",
        "    nlist = []\n",
        "\n",
        "    for c in n:\n",
        "        nlist.append(float(c))\n",
        "\n",
        "    # Se eu não quiser criar uma lista vazia para appendar\n",
        "\n",
        "        # for i in range(len(n))\n",
        "            # n[i] = float(n[i])\n",
        "\n",
        "    media = sum(nlist) / len(nlist)\n",
        "\n",
        "     variancia = 0\n",
        "    for i in range(len(nlist)):\n",
        "        variancia += ((nlist[i] - media) ** 2) / (len(nlist) - 1)\n",
        "\n",
        "    # Outra forma de fazer a variância\n",
        "\n",
        "        ''' quad = []\n",
        "            for in range(len(nlist)):\n",
        "                quad.append((nlist[i] - media) ** 2) - # Este bloco percorre cada valor da lista dados e calcula a diferença de cada um deles para a média, eleva ao quadrado e appenda na lista quad\n",
        "            var = sum(quad) / (len(n) -1)\n",
        "        '''\n",
        "\n",
        "    desvpad = (variancia) ** (1/2)\n",
        "\n",
        "    print(f'O valor da média é: {media:.2f}')\n",
        "    print(f'O valor da variância é: {variancia:.2f}')\n",
        "    print(f'O valor do desvio padrão é: {desvpad:.2f}')"
      ],
      "metadata": {
        "id": "M79phtcneHRZ"
      },
      "execution_count": null,
      "outputs": []
    },
    {
      "cell_type": "code",
      "source": [
        "sempar()"
      ],
      "metadata": {
        "id": "HJhZDeIWeH_B"
      },
      "execution_count": null,
      "outputs": []
    }
  ]
}